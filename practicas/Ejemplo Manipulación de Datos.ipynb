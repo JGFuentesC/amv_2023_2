{
 "cells": [
  {
   "cell_type": "markdown",
   "metadata": {},
   "source": [
    "## Dependencias"
   ]
  },
  {
   "cell_type": "code",
   "execution_count": 96,
   "metadata": {},
   "outputs": [],
   "source": [
    "import numpy as np\n",
    "import pandas as pd\n",
    "import seaborn as sns"
   ]
  },
  {
   "cell_type": "markdown",
   "metadata": {},
   "source": [
    "## Lectura de Datos"
   ]
  },
  {
   "cell_type": "code",
   "execution_count": 6,
   "metadata": {},
   "outputs": [],
   "source": [
    "ruta = '/media/jose/090f6b94-de30-4aaf-9f8a-4e18b120d7f6/bd/chicago/Taxi_Trips.csv'"
   ]
  },
  {
   "cell_type": "code",
   "execution_count": 16,
   "metadata": {},
   "outputs": [],
   "source": [
    "x = pd.Series(np.array([1,2,3,4,5]))"
   ]
  },
  {
   "cell_type": "code",
   "execution_count": 23,
   "metadata": {},
   "outputs": [],
   "source": [
    "df = pd.DataFrame({'x':[1,2,5],'y':['A','B','C']})"
   ]
  },
  {
   "cell_type": "code",
   "execution_count": 27,
   "metadata": {},
   "outputs": [
    {
     "data": {
      "text/plain": [
       "pandas.core.series.Series"
      ]
     },
     "execution_count": 27,
     "metadata": {},
     "output_type": "execute_result"
    }
   ],
   "source": [
    "type(df.x)"
   ]
  },
  {
   "cell_type": "code",
   "execution_count": 31,
   "metadata": {},
   "outputs": [],
   "source": [
    "columnas = ['Trip ID', 'Taxi ID', 'Trip Start Timestamp', 'Trip End Timestamp',\n",
    "            'Trip Seconds', 'Trip Miles',  'Fare', 'Tips', 'Tolls', 'Extras',\n",
    "            'Trip Total', 'Payment Type', 'Company', 'Pickup Centroid Latitude',\n",
    "            'Pickup Centroid Longitude',\n",
    "            'Dropoff Centroid Latitude', 'Dropoff Centroid Longitude']\n"
   ]
  },
  {
   "cell_type": "code",
   "execution_count": 68,
   "metadata": {},
   "outputs": [],
   "source": [
    "df = pd.read_csv(ruta,usecols=columnas,dtype=str)"
   ]
  },
  {
   "cell_type": "code",
   "execution_count": 69,
   "metadata": {},
   "outputs": [
    {
     "data": {
      "text/plain": [
       "(438804, 17)"
      ]
     },
     "execution_count": 69,
     "metadata": {},
     "output_type": "execute_result"
    }
   ],
   "source": [
    "df.shape"
   ]
  },
  {
   "cell_type": "markdown",
   "metadata": {},
   "source": [
    "## Homologación de Tipos de Datos"
   ]
  },
  {
   "cell_type": "code",
   "execution_count": 70,
   "metadata": {},
   "outputs": [],
   "source": [
    "df.columns = ['trip_id', 'taxi_id', 'trip_start_ts', 'trip_end_ts', 'trip_seconds', 'trip_miles',\n",
    "              'fare', 'tips', 'tolls', 'extras', 'trip_total', 'payment_type', 'company', 'pu_lat', 'pu_lon', 'do_lat', 'do_lon'\n",
    "              ]\n"
   ]
  },
  {
   "cell_type": "code",
   "execution_count": 73,
   "metadata": {},
   "outputs": [],
   "source": [
    "for c in ['trip_start_ts','trip_end_ts']:\n",
    "    df[c] = pd.to_datetime(df[c],format='%m/%d/%Y %I:%M:%S %p')"
   ]
  },
  {
   "cell_type": "code",
   "execution_count": 78,
   "metadata": {},
   "outputs": [],
   "source": [
    "for c in ['trip_seconds', 'trip_miles','fare', 'tips', 'tolls', 'extras', 'trip_total', 'pu_lat', 'pu_lon', 'do_lat', 'do_lon']:\n",
    "    df[c] = pd.to_numeric(df[c], errors='coerce')\n",
    "    # df[c] = df[c].astype(float)\n"
   ]
  },
  {
   "cell_type": "markdown",
   "metadata": {},
   "source": [
    "## Estadística descriptiva Básica"
   ]
  },
  {
   "cell_type": "markdown",
   "metadata": {},
   "source": [
    "### Continuo"
   ]
  },
  {
   "cell_type": "code",
   "execution_count": 90,
   "metadata": {},
   "outputs": [
    {
     "data": {
      "text/html": [
       "<div>\n",
       "<style scoped>\n",
       "    .dataframe tbody tr th:only-of-type {\n",
       "        vertical-align: middle;\n",
       "    }\n",
       "\n",
       "    .dataframe tbody tr th {\n",
       "        vertical-align: top;\n",
       "    }\n",
       "\n",
       "    .dataframe thead th {\n",
       "        text-align: right;\n",
       "    }\n",
       "</style>\n",
       "<table border=\"1\" class=\"dataframe\">\n",
       "  <thead>\n",
       "    <tr style=\"text-align: right;\">\n",
       "      <th></th>\n",
       "      <th>trip_seconds</th>\n",
       "      <th>trip_miles</th>\n",
       "      <th>fare</th>\n",
       "      <th>tips</th>\n",
       "      <th>tolls</th>\n",
       "      <th>extras</th>\n",
       "      <th>trip_total</th>\n",
       "      <th>pu_lat</th>\n",
       "      <th>pu_lon</th>\n",
       "      <th>do_lat</th>\n",
       "      <th>do_lon</th>\n",
       "    </tr>\n",
       "  </thead>\n",
       "  <tbody>\n",
       "    <tr>\n",
       "      <th>count</th>\n",
       "      <td>438700.000000</td>\n",
       "      <td>438804.000000</td>\n",
       "      <td>438373.000000</td>\n",
       "      <td>438373.000000</td>\n",
       "      <td>438373.000000</td>\n",
       "      <td>438373.000000</td>\n",
       "      <td>438373.000000</td>\n",
       "      <td>411954.000000</td>\n",
       "      <td>411954.000000</td>\n",
       "      <td>398194.000000</td>\n",
       "      <td>398194.000000</td>\n",
       "    </tr>\n",
       "    <tr>\n",
       "      <th>mean</th>\n",
       "      <td>1094.896257</td>\n",
       "      <td>6.078747</td>\n",
       "      <td>20.645378</td>\n",
       "      <td>2.434464</td>\n",
       "      <td>0.028355</td>\n",
       "      <td>1.884977</td>\n",
       "      <td>25.119596</td>\n",
       "      <td>41.899457</td>\n",
       "      <td>-87.691756</td>\n",
       "      <td>41.892669</td>\n",
       "      <td>-87.657711</td>\n",
       "    </tr>\n",
       "    <tr>\n",
       "      <th>std</th>\n",
       "      <td>1781.059199</td>\n",
       "      <td>7.976993</td>\n",
       "      <td>17.211555</td>\n",
       "      <td>3.853483</td>\n",
       "      <td>8.399593</td>\n",
       "      <td>18.166769</td>\n",
       "      <td>31.582173</td>\n",
       "      <td>0.064535</td>\n",
       "      <td>0.105795</td>\n",
       "      <td>0.059194</td>\n",
       "      <td>0.063592</td>\n",
       "    </tr>\n",
       "    <tr>\n",
       "      <th>min</th>\n",
       "      <td>0.000000</td>\n",
       "      <td>0.000000</td>\n",
       "      <td>0.000000</td>\n",
       "      <td>0.000000</td>\n",
       "      <td>0.000000</td>\n",
       "      <td>0.000000</td>\n",
       "      <td>0.000000</td>\n",
       "      <td>41.651922</td>\n",
       "      <td>-87.913625</td>\n",
       "      <td>41.660136</td>\n",
       "      <td>-87.913625</td>\n",
       "    </tr>\n",
       "    <tr>\n",
       "      <th>1%</th>\n",
       "      <td>0.000000</td>\n",
       "      <td>0.000000</td>\n",
       "      <td>3.250000</td>\n",
       "      <td>0.000000</td>\n",
       "      <td>0.000000</td>\n",
       "      <td>0.000000</td>\n",
       "      <td>3.250000</td>\n",
       "      <td>41.706126</td>\n",
       "      <td>-87.913625</td>\n",
       "      <td>41.706588</td>\n",
       "      <td>-87.913625</td>\n",
       "    </tr>\n",
       "    <tr>\n",
       "      <th>5%</th>\n",
       "      <td>60.000000</td>\n",
       "      <td>0.000000</td>\n",
       "      <td>4.250000</td>\n",
       "      <td>0.000000</td>\n",
       "      <td>0.000000</td>\n",
       "      <td>0.000000</td>\n",
       "      <td>4.750000</td>\n",
       "      <td>41.777196</td>\n",
       "      <td>-87.913625</td>\n",
       "      <td>41.763247</td>\n",
       "      <td>-87.804532</td>\n",
       "    </tr>\n",
       "    <tr>\n",
       "      <th>25%</th>\n",
       "      <td>424.000000</td>\n",
       "      <td>0.890000</td>\n",
       "      <td>7.750000</td>\n",
       "      <td>0.000000</td>\n",
       "      <td>0.000000</td>\n",
       "      <td>0.000000</td>\n",
       "      <td>9.500000</td>\n",
       "      <td>41.878866</td>\n",
       "      <td>-87.695013</td>\n",
       "      <td>41.878866</td>\n",
       "      <td>-87.663518</td>\n",
       "    </tr>\n",
       "    <tr>\n",
       "      <th>50%</th>\n",
       "      <td>828.000000</td>\n",
       "      <td>2.600000</td>\n",
       "      <td>13.750000</td>\n",
       "      <td>0.000000</td>\n",
       "      <td>0.000000</td>\n",
       "      <td>0.000000</td>\n",
       "      <td>16.500000</td>\n",
       "      <td>41.898332</td>\n",
       "      <td>-87.642649</td>\n",
       "      <td>41.893216</td>\n",
       "      <td>-87.633308</td>\n",
       "    </tr>\n",
       "    <tr>\n",
       "      <th>75%</th>\n",
       "      <td>1500.000000</td>\n",
       "      <td>10.850000</td>\n",
       "      <td>31.000000</td>\n",
       "      <td>3.040000</td>\n",
       "      <td>0.000000</td>\n",
       "      <td>1.000000</td>\n",
       "      <td>34.450000</td>\n",
       "      <td>41.953582</td>\n",
       "      <td>-87.626211</td>\n",
       "      <td>41.922686</td>\n",
       "      <td>-87.625192</td>\n",
       "    </tr>\n",
       "    <tr>\n",
       "      <th>95%</th>\n",
       "      <td>2582.000000</td>\n",
       "      <td>18.000000</td>\n",
       "      <td>46.250000</td>\n",
       "      <td>10.000000</td>\n",
       "      <td>0.000000</td>\n",
       "      <td>6.000000</td>\n",
       "      <td>60.900000</td>\n",
       "      <td>41.980264</td>\n",
       "      <td>-87.616134</td>\n",
       "      <td>41.983636</td>\n",
       "      <td>-87.615970</td>\n",
       "    </tr>\n",
       "    <tr>\n",
       "      <th>99%</th>\n",
       "      <td>3818.000000</td>\n",
       "      <td>25.809700</td>\n",
       "      <td>70.250000</td>\n",
       "      <td>14.800000</td>\n",
       "      <td>0.000000</td>\n",
       "      <td>30.000000</td>\n",
       "      <td>94.250000</td>\n",
       "      <td>42.001571</td>\n",
       "      <td>-87.572782</td>\n",
       "      <td>42.007613</td>\n",
       "      <td>-87.572782</td>\n",
       "    </tr>\n",
       "    <tr>\n",
       "      <th>max</th>\n",
       "      <td>86340.000000</td>\n",
       "      <td>899.500000</td>\n",
       "      <td>1111.110000</td>\n",
       "      <td>133.500000</td>\n",
       "      <td>4444.440000</td>\n",
       "      <td>8888.880000</td>\n",
       "      <td>8902.630000</td>\n",
       "      <td>42.021224</td>\n",
       "      <td>-87.531386</td>\n",
       "      <td>42.016046</td>\n",
       "      <td>-87.534903</td>\n",
       "    </tr>\n",
       "  </tbody>\n",
       "</table>\n",
       "</div>"
      ],
      "text/plain": [
       "        trip_seconds     trip_miles           fare           tips  \\\n",
       "count  438700.000000  438804.000000  438373.000000  438373.000000   \n",
       "mean     1094.896257       6.078747      20.645378       2.434464   \n",
       "std      1781.059199       7.976993      17.211555       3.853483   \n",
       "min         0.000000       0.000000       0.000000       0.000000   \n",
       "1%          0.000000       0.000000       3.250000       0.000000   \n",
       "5%         60.000000       0.000000       4.250000       0.000000   \n",
       "25%       424.000000       0.890000       7.750000       0.000000   \n",
       "50%       828.000000       2.600000      13.750000       0.000000   \n",
       "75%      1500.000000      10.850000      31.000000       3.040000   \n",
       "95%      2582.000000      18.000000      46.250000      10.000000   \n",
       "99%      3818.000000      25.809700      70.250000      14.800000   \n",
       "max     86340.000000     899.500000    1111.110000     133.500000   \n",
       "\n",
       "               tolls         extras     trip_total         pu_lat  \\\n",
       "count  438373.000000  438373.000000  438373.000000  411954.000000   \n",
       "mean        0.028355       1.884977      25.119596      41.899457   \n",
       "std         8.399593      18.166769      31.582173       0.064535   \n",
       "min         0.000000       0.000000       0.000000      41.651922   \n",
       "1%          0.000000       0.000000       3.250000      41.706126   \n",
       "5%          0.000000       0.000000       4.750000      41.777196   \n",
       "25%         0.000000       0.000000       9.500000      41.878866   \n",
       "50%         0.000000       0.000000      16.500000      41.898332   \n",
       "75%         0.000000       1.000000      34.450000      41.953582   \n",
       "95%         0.000000       6.000000      60.900000      41.980264   \n",
       "99%         0.000000      30.000000      94.250000      42.001571   \n",
       "max      4444.440000    8888.880000    8902.630000      42.021224   \n",
       "\n",
       "              pu_lon         do_lat         do_lon  \n",
       "count  411954.000000  398194.000000  398194.000000  \n",
       "mean      -87.691756      41.892669     -87.657711  \n",
       "std         0.105795       0.059194       0.063592  \n",
       "min       -87.913625      41.660136     -87.913625  \n",
       "1%        -87.913625      41.706588     -87.913625  \n",
       "5%        -87.913625      41.763247     -87.804532  \n",
       "25%       -87.695013      41.878866     -87.663518  \n",
       "50%       -87.642649      41.893216     -87.633308  \n",
       "75%       -87.626211      41.922686     -87.625192  \n",
       "95%       -87.616134      41.983636     -87.615970  \n",
       "99%       -87.572782      42.007613     -87.572782  \n",
       "max       -87.531386      42.016046     -87.534903  "
      ]
     },
     "execution_count": 90,
     "metadata": {},
     "output_type": "execute_result"
    }
   ],
   "source": [
    "df.describe(percentiles=[0.01,0.05,0.25,0.75,0.95,0.99])"
   ]
  },
  {
   "cell_type": "code",
   "execution_count": 95,
   "metadata": {},
   "outputs": [
    {
     "data": {
      "text/plain": [
       "array([[<Axes: title={'center': 'trip_start_ts'}>,\n",
       "        <Axes: title={'center': 'trip_end_ts'}>,\n",
       "        <Axes: title={'center': 'trip_seconds'}>,\n",
       "        <Axes: title={'center': 'trip_miles'}>],\n",
       "       [<Axes: title={'center': 'fare'}>,\n",
       "        <Axes: title={'center': 'tips'}>,\n",
       "        <Axes: title={'center': 'tolls'}>,\n",
       "        <Axes: title={'center': 'extras'}>],\n",
       "       [<Axes: title={'center': 'trip_total'}>,\n",
       "        <Axes: title={'center': 'pu_lat'}>,\n",
       "        <Axes: title={'center': 'pu_lon'}>,\n",
       "        <Axes: title={'center': 'do_lat'}>],\n",
       "       [<Axes: title={'center': 'do_lon'}>, <Axes: >, <Axes: >, <Axes: >]],\n",
       "      dtype=object)"
      ]
     },
     "execution_count": 95,
     "metadata": {},
     "output_type": "execute_result"
    },
    {
     "data": {
      "image/png": "[encoded data removed]",
      "text/plain": [
       "<Figure size 1000x1000 with 16 Axes>"
      ]
     },
     "metadata": {},
     "output_type": "display_data"
    }
   ],
   "source": [
    "df.hist(figsize=(10,10))"
   ]
  },
  {
   "cell_type": "code",
   "execution_count": 99,
   "metadata": {},
   "outputs": [
    {
     "data": {
      "text/plain": [
       "<Axes: xlabel='trip_miles', ylabel='Density'>"
      ]
     },
     "execution_count": 99,
     "metadata": {},
     "output_type": "execute_result"
    },
    {
     "data": {
      "image/png": "[encoded data removed]",
      "text/plain": [
       "<Figure size 640x480 with 1 Axes>"
      ]
     },
     "metadata": {},
     "output_type": "display_data"
    }
   ],
   "source": [
    "sns.kdeplot(df['trip_miles'])"
   ]
  },
  {
   "cell_type": "code",
   "execution_count": 100,
   "metadata": {},
   "outputs": [
    {
     "name": "stderr",
     "output_type": "stream",
     "text": [
      "/tmp/ipykernel_122450/1134722465.py:1: FutureWarning: The default value of numeric_only in DataFrame.corr is deprecated. In a future version, it will default to False. Select only valid columns or specify the value of numeric_only to silence this warning.\n",
      "  df.corr()\n"
     ]
    },
    {
     "data": {
      "text/html": [
       "<div>\n",
       "<style scoped>\n",
       "    .dataframe tbody tr th:only-of-type {\n",
       "        vertical-align: middle;\n",
       "    }\n",
       "\n",
       "    .dataframe tbody tr th {\n",
       "        vertical-align: top;\n",
       "    }\n",
       "\n",
       "    .dataframe thead th {\n",
       "        text-align: right;\n",
       "    }\n",
       "</style>\n",
       "<table border=\"1\" class=\"dataframe\">\n",
       "  <thead>\n",
       "    <tr style=\"text-align: right;\">\n",
       "      <th></th>\n",
       "      <th>trip_seconds</th>\n",
       "      <th>trip_miles</th>\n",
       "      <th>fare</th>\n",
       "      <th>tips</th>\n",
       "      <th>tolls</th>\n",
       "      <th>extras</th>\n",
       "      <th>trip_total</th>\n",
       "      <th>pu_lat</th>\n",
       "      <th>pu_lon</th>\n",
       "      <th>do_lat</th>\n",
       "      <th>do_lon</th>\n",
       "    </tr>\n",
       "  </thead>\n",
       "  <tbody>\n",
       "    <tr>\n",
       "      <th>trip_seconds</th>\n",
       "      <td>1.000000</td>\n",
       "      <td>0.300231</td>\n",
       "      <td>0.385523</td>\n",
       "      <td>0.128185</td>\n",
       "      <td>-0.000039</td>\n",
       "      <td>0.031621</td>\n",
       "      <td>0.244062</td>\n",
       "      <td>0.058515</td>\n",
       "      <td>-0.194692</td>\n",
       "      <td>0.012060</td>\n",
       "      <td>-0.102756</td>\n",
       "    </tr>\n",
       "    <tr>\n",
       "      <th>trip_miles</th>\n",
       "      <td>0.300231</td>\n",
       "      <td>1.000000</td>\n",
       "      <td>0.720102</td>\n",
       "      <td>0.364410</td>\n",
       "      <td>0.000241</td>\n",
       "      <td>0.096649</td>\n",
       "      <td>0.493914</td>\n",
       "      <td>0.119563</td>\n",
       "      <td>-0.436639</td>\n",
       "      <td>-0.030205</td>\n",
       "      <td>-0.146030</td>\n",
       "    </tr>\n",
       "    <tr>\n",
       "      <th>fare</th>\n",
       "      <td>0.385523</td>\n",
       "      <td>0.720102</td>\n",
       "      <td>1.000000</td>\n",
       "      <td>0.430826</td>\n",
       "      <td>0.000652</td>\n",
       "      <td>0.108751</td>\n",
       "      <td>0.661316</td>\n",
       "      <td>0.140052</td>\n",
       "      <td>-0.525129</td>\n",
       "      <td>-0.034526</td>\n",
       "      <td>-0.202025</td>\n",
       "    </tr>\n",
       "    <tr>\n",
       "      <th>tips</th>\n",
       "      <td>0.128185</td>\n",
       "      <td>0.364410</td>\n",
       "      <td>0.430826</td>\n",
       "      <td>1.000000</td>\n",
       "      <td>0.000797</td>\n",
       "      <td>0.120385</td>\n",
       "      <td>0.429536</td>\n",
       "      <td>0.274884</td>\n",
       "      <td>-0.498952</td>\n",
       "      <td>0.148877</td>\n",
       "      <td>-0.121215</td>\n",
       "    </tr>\n",
       "    <tr>\n",
       "      <th>tolls</th>\n",
       "      <td>-0.000039</td>\n",
       "      <td>0.000241</td>\n",
       "      <td>0.000652</td>\n",
       "      <td>0.000797</td>\n",
       "      <td>1.000000</td>\n",
       "      <td>0.462180</td>\n",
       "      <td>0.532268</td>\n",
       "      <td>-0.002543</td>\n",
       "      <td>-0.000189</td>\n",
       "      <td>-0.004371</td>\n",
       "      <td>0.002386</td>\n",
       "    </tr>\n",
       "    <tr>\n",
       "      <th>extras</th>\n",
       "      <td>0.031621</td>\n",
       "      <td>0.096649</td>\n",
       "      <td>0.108751</td>\n",
       "      <td>0.120385</td>\n",
       "      <td>0.462180</td>\n",
       "      <td>1.000000</td>\n",
       "      <td>0.772519</td>\n",
       "      <td>0.060387</td>\n",
       "      <td>-0.133409</td>\n",
       "      <td>0.012734</td>\n",
       "      <td>-0.015861</td>\n",
       "    </tr>\n",
       "    <tr>\n",
       "      <th>trip_total</th>\n",
       "      <td>0.244062</td>\n",
       "      <td>0.493914</td>\n",
       "      <td>0.661316</td>\n",
       "      <td>0.429536</td>\n",
       "      <td>0.532268</td>\n",
       "      <td>0.772519</td>\n",
       "      <td>1.000000</td>\n",
       "      <td>0.141521</td>\n",
       "      <td>-0.412523</td>\n",
       "      <td>0.006314</td>\n",
       "      <td>-0.129671</td>\n",
       "    </tr>\n",
       "    <tr>\n",
       "      <th>pu_lat</th>\n",
       "      <td>0.058515</td>\n",
       "      <td>0.119563</td>\n",
       "      <td>0.140052</td>\n",
       "      <td>0.274884</td>\n",
       "      <td>-0.002543</td>\n",
       "      <td>0.060387</td>\n",
       "      <td>0.141521</td>\n",
       "      <td>1.000000</td>\n",
       "      <td>-0.587867</td>\n",
       "      <td>0.497897</td>\n",
       "      <td>-0.213720</td>\n",
       "    </tr>\n",
       "    <tr>\n",
       "      <th>pu_lon</th>\n",
       "      <td>-0.194692</td>\n",
       "      <td>-0.436639</td>\n",
       "      <td>-0.525129</td>\n",
       "      <td>-0.498952</td>\n",
       "      <td>-0.000189</td>\n",
       "      <td>-0.133409</td>\n",
       "      <td>-0.412523</td>\n",
       "      <td>-0.587867</td>\n",
       "      <td>1.000000</td>\n",
       "      <td>-0.224328</td>\n",
       "      <td>0.218602</td>\n",
       "    </tr>\n",
       "    <tr>\n",
       "      <th>do_lat</th>\n",
       "      <td>0.012060</td>\n",
       "      <td>-0.030205</td>\n",
       "      <td>-0.034526</td>\n",
       "      <td>0.148877</td>\n",
       "      <td>-0.004371</td>\n",
       "      <td>0.012734</td>\n",
       "      <td>0.006314</td>\n",
       "      <td>0.497897</td>\n",
       "      <td>-0.224328</td>\n",
       "      <td>1.000000</td>\n",
       "      <td>-0.477506</td>\n",
       "    </tr>\n",
       "    <tr>\n",
       "      <th>do_lon</th>\n",
       "      <td>-0.102756</td>\n",
       "      <td>-0.146030</td>\n",
       "      <td>-0.202025</td>\n",
       "      <td>-0.121215</td>\n",
       "      <td>0.002386</td>\n",
       "      <td>-0.015861</td>\n",
       "      <td>-0.129671</td>\n",
       "      <td>-0.213720</td>\n",
       "      <td>0.218602</td>\n",
       "      <td>-0.477506</td>\n",
       "      <td>1.000000</td>\n",
       "    </tr>\n",
       "  </tbody>\n",
       "</table>\n",
       "</div>"
      ],
      "text/plain": [
       "              trip_seconds  trip_miles      fare      tips     tolls  \\\n",
       "trip_seconds      1.000000    0.300231  0.385523  0.128185 -0.000039   \n",
       "trip_miles        0.300231    1.000000  0.720102  0.364410  0.000241   \n",
       "fare              0.385523    0.720102  1.000000  0.430826  0.000652   \n",
       "tips              0.128185    0.364410  0.430826  1.000000  0.000797   \n",
       "tolls            -0.000039    0.000241  0.000652  0.000797  1.000000   \n",
       "extras            0.031621    0.096649  0.108751  0.120385  0.462180   \n",
       "trip_total        0.244062    0.493914  0.661316  0.429536  0.532268   \n",
       "pu_lat            0.058515    0.119563  0.140052  0.274884 -0.002543   \n",
       "pu_lon           -0.194692   -0.436639 -0.525129 -0.498952 -0.000189   \n",
       "do_lat            0.012060   -0.030205 -0.034526  0.148877 -0.004371   \n",
       "do_lon           -0.102756   -0.146030 -0.202025 -0.121215  0.002386   \n",
       "\n",
       "                extras  trip_total    pu_lat    pu_lon    do_lat    do_lon  \n",
       "trip_seconds  0.031621    0.244062  0.058515 -0.194692  0.012060 -0.102756  \n",
       "trip_miles    0.096649    0.493914  0.119563 -0.436639 -0.030205 -0.146030  \n",
       "fare          0.108751    0.661316  0.140052 -0.525129 -0.034526 -0.202025  \n",
       "tips          0.120385    0.429536  0.274884 -0.498952  0.148877 -0.121215  \n",
       "tolls         0.462180    0.532268 -0.002543 -0.000189 -0.004371  0.002386  \n",
       "extras        1.000000    0.772519  0.060387 -0.133409  0.012734 -0.015861  \n",
       "trip_total    0.772519    1.000000  0.141521 -0.412523  0.006314 -0.129671  \n",
       "pu_lat        0.060387    0.141521  1.000000 -0.587867  0.497897 -0.213720  \n",
       "pu_lon       -0.133409   -0.412523 -0.587867  1.000000 -0.224328  0.218602  \n",
       "do_lat        0.012734    0.006314  0.497897 -0.224328  1.000000 -0.477506  \n",
       "do_lon       -0.015861   -0.129671 -0.213720  0.218602 -0.477506  1.000000  "
      ]
     },
     "execution_count": 100,
     "metadata": {},
     "output_type": "execute_result"
    }
   ],
   "source": [
    "df.corr()"
   ]
  },
  {
   "cell_type": "markdown",
   "metadata": {},
   "source": [
    "### Discreto"
   ]
  },
  {
   "cell_type": "code",
   "execution_count": 111,
   "metadata": {},
   "outputs": [
    {
     "data": {
      "text/plain": [
       "Credit Card    0.337711\n",
       "Cash           0.307707\n",
       "Mobile         0.153700\n",
       "Prcard         0.137050\n",
       "Other          0.063833\n",
       "Name: payment_type, dtype: float64"
      ]
     },
     "execution_count": 111,
     "metadata": {},
     "output_type": "execute_result"
    }
   ],
   "source": [
    "df['payment_type'] = np.where(df['payment_type'].isin(['Credit Card','Cash','Mobile','Prcard']),df['payment_type'],'Other')\n",
    "df['payment_type'].value_counts(1)"
   ]
  },
  {
   "cell_type": "code",
   "execution_count": 112,
   "metadata": {},
   "outputs": [
    {
     "data": {
      "text/plain": [
       "Other                        0.384306\n",
       "Flash Cab                    0.215666\n",
       "Taxi Affiliation Services    0.198417\n",
       "Sun Taxi                     0.104322\n",
       "City Service                 0.097289\n",
       "Name: company, dtype: float64"
      ]
     },
     "execution_count": 112,
     "metadata": {},
     "output_type": "execute_result"
    }
   ],
   "source": [
    "df['company'] = np.where(df['company'].isin(['Flash Cab','Taxi Affiliation Services','Sun Taxi','City Service']),df['company'],'Other')\n",
    "df['company'].value_counts(True)"
   ]
  },
  {
   "cell_type": "code",
   "execution_count": 113,
   "metadata": {},
   "outputs": [
    {
     "data": {
      "text/plain": [
       "<Axes: ylabel='company'>"
      ]
     },
     "execution_count": 113,
     "metadata": {},
     "output_type": "execute_result"
    },
    {
     "data": {
      "image/png": "[encoded data removed]",
      "text/plain": [
       "<Figure size 640x480 with 1 Axes>"
      ]
     },
     "metadata": {},
     "output_type": "display_data"
    }
   ],
   "source": [
    "df['company'].value_counts(True).plot(kind='pie')"
   ]
  },
  {
   "cell_type": "markdown",
   "metadata": {},
   "source": [
    "## Agrupaciones"
   ]
  },
  {
   "cell_type": "code",
   "execution_count": 125,
   "metadata": {},
   "outputs": [
    {
     "data": {
      "text/html": [
       "<div>\n",
       "<style scoped>\n",
       "    .dataframe tbody tr th:only-of-type {\n",
       "        vertical-align: middle;\n",
       "    }\n",
       "\n",
       "    .dataframe tbody tr th {\n",
       "        vertical-align: top;\n",
       "    }\n",
       "\n",
       "    .dataframe thead th {\n",
       "        text-align: right;\n",
       "    }\n",
       "</style>\n",
       "<table border=\"1\" class=\"dataframe\">\n",
       "  <thead>\n",
       "    <tr style=\"text-align: right;\">\n",
       "      <th></th>\n",
       "      <th>tips</th>\n",
       "      <th>trip_total</th>\n",
       "      <th>%propina</th>\n",
       "    </tr>\n",
       "    <tr>\n",
       "      <th>company</th>\n",
       "      <th></th>\n",
       "      <th></th>\n",
       "      <th></th>\n",
       "    </tr>\n",
       "  </thead>\n",
       "  <tbody>\n",
       "    <tr>\n",
       "      <th>City Service</th>\n",
       "      <td>121634.19</td>\n",
       "      <td>737315.47</td>\n",
       "      <td>0.164969</td>\n",
       "    </tr>\n",
       "    <tr>\n",
       "      <th>Flash Cab</th>\n",
       "      <td>114789.99</td>\n",
       "      <td>712375.61</td>\n",
       "      <td>0.161137</td>\n",
       "    </tr>\n",
       "    <tr>\n",
       "      <th>Other</th>\n",
       "      <td>490619.60</td>\n",
       "      <td>3059707.23</td>\n",
       "      <td>0.160349</td>\n",
       "    </tr>\n",
       "    <tr>\n",
       "      <th>Sun Taxi</th>\n",
       "      <td>149122.32</td>\n",
       "      <td>894159.67</td>\n",
       "      <td>0.166774</td>\n",
       "    </tr>\n",
       "    <tr>\n",
       "      <th>Taxi Affiliation Services</th>\n",
       "      <td>174036.70</td>\n",
       "      <td>1046757.53</td>\n",
       "      <td>0.166263</td>\n",
       "    </tr>\n",
       "  </tbody>\n",
       "</table>\n",
       "</div>"
      ],
      "text/plain": [
       "                                tips  trip_total  %propina\n",
       "company                                                   \n",
       "City Service               121634.19   737315.47  0.164969\n",
       "Flash Cab                  114789.99   712375.61  0.161137\n",
       "Other                      490619.60  3059707.23  0.160349\n",
       "Sun Taxi                   149122.32   894159.67  0.166774\n",
       "Taxi Affiliation Services  174036.70  1046757.53  0.166263"
      ]
     },
     "execution_count": 125,
     "metadata": {},
     "output_type": "execute_result"
    }
   ],
   "source": [
    "aux = df.loc[df['payment_type'].isin(['Credit Card','Mobile'])]\n",
    "aux = aux[['company','tips','trip_total']].groupby('company').sum()\n",
    "aux['%propina'] = aux['tips']/aux['trip_total']\n",
    "aux"
   ]
  },
  {
   "cell_type": "code",
   "execution_count": 130,
   "metadata": {},
   "outputs": [
    {
     "data": {
      "text/html": [
       "<div>\n",
       "<style scoped>\n",
       "    .dataframe tbody tr th:only-of-type {\n",
       "        vertical-align: middle;\n",
       "    }\n",
       "\n",
       "    .dataframe tbody tr th {\n",
       "        vertical-align: top;\n",
       "    }\n",
       "\n",
       "    .dataframe thead tr th {\n",
       "        text-align: left;\n",
       "    }\n",
       "\n",
       "    .dataframe thead tr:last-of-type th {\n",
       "        text-align: right;\n",
       "    }\n",
       "</style>\n",
       "<table border=\"1\" class=\"dataframe\">\n",
       "  <thead>\n",
       "    <tr>\n",
       "      <th></th>\n",
       "      <th colspan=\"2\" halign=\"left\">tips</th>\n",
       "      <th colspan=\"2\" halign=\"left\">trip_total</th>\n",
       "    </tr>\n",
       "    <tr>\n",
       "      <th></th>\n",
       "      <th>mean</th>\n",
       "      <th>count</th>\n",
       "      <th>mean</th>\n",
       "      <th>count</th>\n",
       "    </tr>\n",
       "    <tr>\n",
       "      <th>payment_type</th>\n",
       "      <th></th>\n",
       "      <th></th>\n",
       "      <th></th>\n",
       "      <th></th>\n",
       "    </tr>\n",
       "  </thead>\n",
       "  <tbody>\n",
       "    <tr>\n",
       "      <th>Credit Card</th>\n",
       "      <td>5.689701</td>\n",
       "      <td>148187</td>\n",
       "      <td>35.118975</td>\n",
       "      <td>148187</td>\n",
       "    </tr>\n",
       "    <tr>\n",
       "      <th>Mobile</th>\n",
       "      <td>3.070149</td>\n",
       "      <td>67444</td>\n",
       "      <td>18.476661</td>\n",
       "      <td>67444</td>\n",
       "    </tr>\n",
       "  </tbody>\n",
       "</table>\n",
       "</div>"
      ],
      "text/plain": [
       "                  tips         trip_total        \n",
       "                  mean   count       mean   count\n",
       "payment_type                                     \n",
       "Credit Card   5.689701  148187  35.118975  148187\n",
       "Mobile        3.070149   67444  18.476661   67444"
      ]
     },
     "execution_count": 130,
     "metadata": {},
     "output_type": "execute_result"
    }
   ],
   "source": [
    "aux = df.loc[df['payment_type'].isin(['Credit Card','Mobile'])]\n",
    "aux[['payment_type','tips','trip_total']].groupby('payment_type').agg(['mean','count'])"
   ]
  },
  {
   "cell_type": "code",
   "execution_count": null,
   "metadata": {},
   "outputs": [],
   "source": []
  }
 ],
 "metadata": {
  "kernelspec": {
   "display_name": "amv",
   "language": "python",
   "name": "python3"
  },
  "language_info": {
   "codemirror_mode": {
    "name": "ipython",
    "version": 3
   },
   "file_extension": ".py",
   "mimetype": "text/x-python",
   "name": "python",
   "nbconvert_exporter": "python",
   "pygments_lexer": "ipython3",
   "version": "3.10.6"
  },
  "orig_nbformat": 4,
  "vscode": {
   "interpreter": {
    "hash": "f5b8f3fb805efe060a466da857503422338edb583f557bcd695a39a8dc07e017"
   }
  }
 },
 "nbformat": 4,
 "nbformat_minor": 2
}
