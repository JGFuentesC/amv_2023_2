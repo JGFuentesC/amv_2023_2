{
 "cells": [
  {
   "cell_type": "code",
   "execution_count": 3,
   "metadata": {},
   "outputs": [
    {
     "name": "stderr",
     "output_type": "stream",
     "text": [
      "/home/jose/entornos/amv/lib/python3.10/site-packages/matplotlib/animation.py:880: UserWarning: Animation was deleted without rendering anything. This is most likely not intended. To prevent deletion, assign the Animation to a variable, e.g. `anim`, that exists until you output the Animation using `plt.show()` or `anim.save()`.\n",
      "  warnings.warn(\n"
     ]
    },
    {
     "data": {
      "image/png": "[encoded data removed]",
      "text/plain": [
       "<Figure size 640x480 with 1 Axes>"
      ]
     },
     "metadata": {},
     "output_type": "display_data"
    }
   ],
   "source": [
    "import numpy as np\n",
    "import matplotlib.pyplot as plt\n",
    "import matplotlib.animation as animation\n",
    "\n",
    "# Tamaño de la cuadrícula\n",
    "GRID_SIZE = 20\n",
    "\n",
    "# Crear una cuadrícula vacía\n",
    "grid = np.zeros((GRID_SIZE, GRID_SIZE), dtype=int)\n",
    "\n",
    "# Definir las células vivas iniciales\n",
    "initial_live_cells = [(9, 9), (9, 10), (9, 11), (10, 9), (10, 11), (11, 9), (11, 11)]\n",
    "\n",
    "# Colocar las células vivas iniciales en la cuadrícula\n",
    "for cell in initial_live_cells:\n",
    "    grid[cell[0]][cell[1]] = 1\n",
    "\n",
    "# Función para calcular el siguiente estado de la cuadrícula\n",
    "def next_generation(curr_grid):\n",
    "    new_grid = np.zeros((GRID_SIZE, GRID_SIZE), dtype=int)\n",
    "    \n",
    "    for i in range(GRID_SIZE):\n",
    "        for j in range(GRID_SIZE):\n",
    "            # Contar el número de vecinos vivos\n",
    "            live_neighbors = np.sum(curr_grid[max(0, i-1):min(i+2, GRID_SIZE), max(0, j-1):min(j+2, GRID_SIZE)]) - curr_grid[i][j]\n",
    "            \n",
    "            # Aplicar las reglas del juego de la vida\n",
    "            if curr_grid[i][j] == 1 and (live_neighbors == 2 or live_neighbors == 3):\n",
    "                new_grid[i][j] = 1\n",
    "            elif curr_grid[i][j] == 0 and live_neighbors == 3:\n",
    "                new_grid[i][j] = 1\n",
    "    \n",
    "    return new_grid\n",
    "\n",
    "# Crear la figura de la animación\n",
    "fig = plt.figure()\n",
    "\n",
    "# Función para actualizar la cuadrícula en cada cuadro de la animación\n",
    "def update_grid(frame_number):\n",
    "    new_grid = next_generation(grid)\n",
    "    img.set_array(new_grid)\n",
    "    grid = new_grid\n",
    "\n",
    "# Crear la animación\n",
    "img = plt.imshow(grid, interpolation='nearest', cmap='binary')\n",
    "ani = animation.FuncAnimation(fig, update_grid, frames=50, interval=200, repeat=True)\n",
    "\n",
    "# Mostrar la animación\n",
    "plt.show()\n"
   ]
  },
  {
   "cell_type": "code",
   "execution_count": null,
   "metadata": {},
   "outputs": [],
   "source": []
  }
 ],
 "metadata": {
  "kernelspec": {
   "display_name": "amv",
   "language": "python",
   "name": "amv"
  },
  "language_info": {
   "codemirror_mode": {
    "name": "ipython",
    "version": 3
   },
   "file_extension": ".py",
   "mimetype": "text/x-python",
   "name": "python",
   "nbconvert_exporter": "python",
   "pygments_lexer": "ipython3",
   "version": "3.10.6"
  },
  "orig_nbformat": 4
 },
 "nbformat": 4,
 "nbformat_minor": 2
}
