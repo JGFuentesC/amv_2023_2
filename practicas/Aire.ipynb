{
 "cells": [
  {
   "attachments": {},
   "cell_type": "markdown",
   "metadata": {},
   "source": [
    "## Dependencias "
   ]
  },
  {
   "cell_type": "code",
   "execution_count": 11,
   "metadata": {},
   "outputs": [
    {
     "data": {
      "text/html": [
       "        <script type=\"text/javascript\">\n",
       "        window.PlotlyConfig = {MathJaxConfig: 'local'};\n",
       "        if (window.MathJax && window.MathJax.Hub && window.MathJax.Hub.Config) {window.MathJax.Hub.Config({SVG: {font: \"STIX-Web\"}});}\n",
       "        if (typeof require !== 'undefined') {\n",
       "        require.undef(\"plotly\");\n",
       "        requirejs.config({\n",
       "            paths: {\n",
       "                'plotly': ['https://cdn.plot.ly/plotly-2.18.2.min']\n",
       "            }\n",
       "        });\n",
       "        require(['plotly'], function(Plotly) {\n",
       "            window._Plotly = Plotly;\n",
       "        });\n",
       "        }\n",
       "        </script>\n",
       "        "
      ]
     },
     "metadata": {},
     "output_type": "display_data"
    }
   ],
   "source": [
    "import numpy as np\n",
    "import pandas as pd\n",
    "from glob import glob\n",
    "from auxiliares import freq\n",
    "import os\n",
    "\n",
    "import cufflinks as cf\n",
    "\n",
    "from multiprocessing import Pool\n",
    "\n",
    "from functools import reduce\n",
    "import warnings\n",
    "warnings.filterwarnings('ignore') \n",
    "cf.go_offline()\n",
    "pd.set_option('display.max_columns', None)"
   ]
  },
  {
   "cell_type": "code",
   "execution_count": 2,
   "metadata": {},
   "outputs": [],
   "source": [
    "def make_pool(func, params, threads):\n",
    "    \"\"\"\n",
    "    Ejecuta de forma asíncrona múltiples llamadas a una función\n",
    "    :param func: function, objeto función a paralelizar\n",
    "    :param params: iterable, parámetros de evaluación paralela\n",
    "    :param threads: int, número de hilos de multiprocesamiento\n",
    "    :return: list, resultado de la ejecución paralela agrupada en una lista\n",
    "    \"\"\"\n",
    "    pool = Pool(threads)\n",
    "    data = pool.starmap(func, params)\n",
    "    pool.close()\n",
    "    pool.join()\n",
    "    del pool\n",
    "    return [x for x in data]"
   ]
  },
  {
   "attachments": {},
   "cell_type": "markdown",
   "metadata": {},
   "source": [
    "## Lectura de datos"
   ]
  },
  {
   "cell_type": "code",
   "execution_count": 6,
   "metadata": {},
   "outputs": [],
   "source": [
    "ruta = '/media/jose/090f6b94-de30-4aaf-9f8a-4e18b120d7f6/bd/02.  Para Ingeniería/aire/csv/*.csv'\n",
    "dest = '/media/jose/090f6b94-de30-4aaf-9f8a-4e18b120d7f6/bd/02.  Para Ingeniería/aire/parquet/'"
   ]
  },
  {
   "cell_type": "code",
   "execution_count": 7,
   "metadata": {},
   "outputs": [
    {
     "data": {
      "text/plain": [
       "107"
      ]
     },
     "execution_count": 7,
     "metadata": {},
     "output_type": "execute_result"
    }
   ],
   "source": [
    "archivos = glob(ruta)\n",
    "len(archivos)"
   ]
  },
  {
   "cell_type": "code",
   "execution_count": 8,
   "metadata": {},
   "outputs": [
    {
     "data": {
      "text/plain": [
       "['2019SO2',\n",
       " '2017SO2',\n",
       " '2014O3',\n",
       " '2019PM10',\n",
       " '2017NO',\n",
       " '2012NO',\n",
       " '2015O3',\n",
       " '2017PMCO',\n",
       " '2013NO',\n",
       " '2020NO',\n",
       " '2010NOX',\n",
       " '2019O3',\n",
       " '2021O3',\n",
       " '2010NO2',\n",
       " '2016PM25',\n",
       " '2014SO2',\n",
       " '2011CO',\n",
       " '2021NO2',\n",
       " '2019NO',\n",
       " '2020SO2',\n",
       " '2018NO2',\n",
       " '2017PM10',\n",
       " '2010PM25',\n",
       " '2017O3',\n",
       " '2014CO',\n",
       " '2012PMCO',\n",
       " '2017CO',\n",
       " '2019NOX',\n",
       " '2011PMCO',\n",
       " '2016NO',\n",
       " '2017NOX',\n",
       " '2018CO',\n",
       " '2013PM25',\n",
       " '2015PM10',\n",
       " '2013SO2',\n",
       " '2015PM25',\n",
       " '2012NOX',\n",
       " '2011PM10',\n",
       " '2013O3',\n",
       " '2015NOX',\n",
       " '2018PM10',\n",
       " '2012PM25',\n",
       " '2014PM10',\n",
       " '2017PM25',\n",
       " '2020NO2',\n",
       " '2013CO',\n",
       " '2012PM10',\n",
       " '2021PM25',\n",
       " '2011NO',\n",
       " '2013PM10',\n",
       " '2016CO',\n",
       " '2014PMCO',\n",
       " '2020PM25',\n",
       " '2013PMCO',\n",
       " '2021NOX',\n",
       " '2014PM25',\n",
       " '2011PM25',\n",
       " '2016NO2',\n",
       " '2014NO',\n",
       " '2021NO',\n",
       " '2020O3',\n",
       " '2016O3',\n",
       " '2019PM25',\n",
       " '2016NOX',\n",
       " '2021CO',\n",
       " '2013NO2',\n",
       " '2018NO',\n",
       " '2016SO2',\n",
       " '2016PM10',\n",
       " '2015CO',\n",
       " '2020PM10',\n",
       " '2018SO2',\n",
       " '2015PMCO',\n",
       " '2011NOX',\n",
       " '2012NO2',\n",
       " '2020PMCO',\n",
       " '2021SO2',\n",
       " '2018PM25',\n",
       " '2014NO2',\n",
       " '2015NO2',\n",
       " '2014NOX',\n",
       " '2019NO2',\n",
       " '2010NO',\n",
       " '2010SO2',\n",
       " '2012O3',\n",
       " '2021PM10',\n",
       " '2019CO',\n",
       " '2011NO2',\n",
       " '2016PMCO',\n",
       " '2018PMCO',\n",
       " '2013NOX',\n",
       " '2020CO',\n",
       " '2012CO',\n",
       " '2018O3',\n",
       " '2010O3',\n",
       " '2017NO2',\n",
       " '2010CO',\n",
       " '2011O3',\n",
       " '2012SO2',\n",
       " '2021PMCO',\n",
       " '2011SO2',\n",
       " '2015SO2',\n",
       " '2019PMCO',\n",
       " '2018NOX',\n",
       " '2010PM10',\n",
       " '2020NOX',\n",
       " '2015NO']"
      ]
     },
     "execution_count": 8,
     "metadata": {},
     "output_type": "execute_result"
    }
   ],
   "source": [
    "nombres = [a.split('/')[-1].split('.')[0] for a in archivos ]\n",
    "nombres"
   ]
  },
  {
   "cell_type": "code",
   "execution_count": 9,
   "metadata": {},
   "outputs": [],
   "source": [
    "def leerArchivo(arch:str)->pd.DataFrame:\n",
    "    df = pd.read_csv(arch,dtype=str).dropna().reset_index(drop=True)\n",
    "    df['FECHA'] = pd.to_datetime(df['FECHA'],format='%Y-%m-%d')\n",
    "    df['HORA'] = pd.to_numeric(df['HORA']).astype(int)\n",
    "    df['VALOR'] = pd.to_numeric(df['VALOR']).astype(float)\n",
    "    df['HORA'].replace({24:0},inplace=True)\n",
    "    return df"
   ]
  },
  {
   "cell_type": "code",
   "execution_count": 12,
   "metadata": {},
   "outputs": [],
   "source": [
    "for a,d in zip(nombres,make_pool(leerArchivo,[(x,) for x in archivos],15)):\n",
    "    d.to_parquet(os.path.join(dest,a+'.parquet'))"
   ]
  },
  {
   "attachments": {},
   "cell_type": "markdown",
   "metadata": {},
   "source": [
    "## Selección de variables"
   ]
  },
  {
   "cell_type": "code",
   "execution_count": null,
   "metadata": {},
   "outputs": [],
   "source": [
    "contPred = 'O3'\n",
    "vobs = 24\n",
    "vdes = 6\n",
    "step = 6\n",
    "um = ['ESTACION','ancla']\n",
    "varc = ['VALOR']\n",
    "dim = ['CONTAMINANTE']"
   ]
  },
  {
   "attachments": {},
   "cell_type": "markdown",
   "metadata": {},
   "source": [
    "## Ingeniería de variables"
   ]
  },
  {
   "cell_type": "code",
   "execution_count": null,
   "metadata": {},
   "outputs": [],
   "source": [
    "anclai,anclaf = vobs, df['id_hora'].max()-vdes\n",
    "anclai,anclaf"
   ]
  },
  {
   "cell_type": "code",
   "execution_count": null,
   "metadata": {},
   "outputs": [],
   "source": [
    "cruzar = lambda x,y:x.merge(y,on=um,how='outer')\n",
    "apilar = lambda x,y:pd.concat([x,y],ignore_index=True)"
   ]
  },
  {
   "cell_type": "code",
   "execution_count": null,
   "metadata": {},
   "outputs": [],
   "source": [
    "def ingX(df:pd.DataFrame,ancla:int,sub:int)->pd.DataFrame:\n",
    "    aux = df.loc[(df['id_hora'] <= ancla) & (df['id_hora'] >=\n",
    "                                            (ancla-sub+1))].copy().reset_index(drop=True)\n",
    "    \n",
    "    funciones = [np.mean,np.median,np.std,np.min,np.max]\n",
    "    nombres = ['media','mediana','desv','min','max']\n",
    "  \n",
    "    l = []\n",
    "    for c,d in aux.groupby(dim):\n",
    "        piv = d.pivot_table(index=['ESTACION'],\n",
    "                        columns=['id_hora'],values=varc)\n",
    "        for f,n in zip(funciones,nombres):\n",
    "            piv[f'x_{n}_{c}_{sub}'] = piv.apply(f,axis=1)\n",
    "        ing = piv.filter(like='x_').reset_index()\n",
    "        ing.insert(1,'ancla',ancla)\n",
    "        l.append(ing)\n",
    "    return reduce(cruzar,l)"
   ]
  },
  {
   "cell_type": "code",
   "execution_count": null,
   "metadata": {},
   "outputs": [],
   "source": [
    "def vectorX(ancla:int)->pd.DataFrame:\n",
    "    return reduce(cruzar, map(lambda sub: ingX(df, ancla, sub),\n",
    "       range(step, vobs+step, step)))"
   ]
  },
  {
   "cell_type": "code",
   "execution_count": null,
   "metadata": {},
   "outputs": [],
   "source": [
    "X= reduce(apilar,\n",
    "       make_pool(vectorX,[(ancla,) for ancla in range(anclai,anclaf+1)],30))"
   ]
  },
  {
   "cell_type": "code",
   "execution_count": null,
   "metadata": {},
   "outputs": [],
   "source": [
    "X.to_parquet('../data/aire_X.parquet')"
   ]
  },
  {
   "cell_type": "code",
   "execution_count": null,
   "metadata": {},
   "outputs": [],
   "source": []
  }
 ],
 "metadata": {
  "kernelspec": {
   "display_name": "amv",
   "language": "python",
   "name": "amv"
  },
  "language_info": {
   "codemirror_mode": {
    "name": "ipython",
    "version": 3
   },
   "file_extension": ".py",
   "mimetype": "text/x-python",
   "name": "python",
   "nbconvert_exporter": "python",
   "pygments_lexer": "ipython3",
   "version": "3.10.6"
  },
  "orig_nbformat": 4
 },
 "nbformat": 4,
 "nbformat_minor": 2
}
