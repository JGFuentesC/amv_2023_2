{
 "cells": [
  {
   "cell_type": "markdown",
   "metadata": {},
   "source": [
    "## Dependencias"
   ]
  },
  {
   "cell_type": "code",
   "execution_count": 2,
   "metadata": {},
   "outputs": [
    {
     "data": {
      "text/html": [
       "        <script type=\"text/javascript\">\n",
       "        window.PlotlyConfig = {MathJaxConfig: 'local'};\n",
       "        if (window.MathJax && window.MathJax.Hub && window.MathJax.Hub.Config) {window.MathJax.Hub.Config({SVG: {font: \"STIX-Web\"}});}\n",
       "        if (typeof require !== 'undefined') {\n",
       "        require.undef(\"plotly\");\n",
       "        requirejs.config({\n",
       "            paths: {\n",
       "                'plotly': ['https://cdn.plot.ly/plotly-2.18.2.min']\n",
       "            }\n",
       "        });\n",
       "        require(['plotly'], function(Plotly) {\n",
       "            window._Plotly = Plotly;\n",
       "        });\n",
       "        }\n",
       "        </script>\n",
       "        "
      ]
     },
     "metadata": {},
     "output_type": "display_data"
    }
   ],
   "source": [
    "import numpy as np\n",
    "import pandas as pd\n",
    "\n",
    "import matplotlib.pyplot as plt\n",
    "import seaborn as sns\n",
    "import cufflinks as cf\n",
    "\n",
    "from sklearn.manifold import MDS\n",
    "from sklearn.preprocessing import MinMaxScaler\n",
    "from sklearn.impute import SimpleImputer\n",
    "\n",
    "from scipy import stats\n",
    "\n",
    "cf.go_offline()\n",
    "pd.set_option('display.float_format', lambda x: '%.3f' % x)"
   ]
  },
  {
   "cell_type": "markdown",
   "metadata": {},
   "source": [
    "## Lectura de datos"
   ]
  },
  {
   "cell_type": "code",
   "execution_count": 3,
   "metadata": {},
   "outputs": [],
   "source": [
    "ruta = \"/media/jose/090f6b94-de30-4aaf-9f8a-4e18b120d7f6/bd/01. Simples/pure_ml/train.csv\""
   ]
  },
  {
   "cell_type": "code",
   "execution_count": 4,
   "metadata": {},
   "outputs": [],
   "source": [
    "df = pd.read_csv(ruta)"
   ]
  },
  {
   "cell_type": "code",
   "execution_count": 5,
   "metadata": {},
   "outputs": [
    {
     "data": {
      "text/plain": [
       "(9294, 55)"
      ]
     },
     "execution_count": 5,
     "metadata": {},
     "output_type": "execute_result"
    }
   ],
   "source": [
    "df.shape"
   ]
  },
  {
   "cell_type": "code",
   "execution_count": 6,
   "metadata": {},
   "outputs": [
    {
     "data": {
      "text/html": [
       "<div>\n",
       "<style scoped>\n",
       "    .dataframe tbody tr th:only-of-type {\n",
       "        vertical-align: middle;\n",
       "    }\n",
       "\n",
       "    .dataframe tbody tr th {\n",
       "        vertical-align: top;\n",
       "    }\n",
       "\n",
       "    .dataframe thead th {\n",
       "        text-align: right;\n",
       "    }\n",
       "</style>\n",
       "<table border=\"1\" class=\"dataframe\">\n",
       "  <thead>\n",
       "    <tr style=\"text-align: right;\">\n",
       "      <th></th>\n",
       "      <th>ID</th>\n",
       "      <th>C_01</th>\n",
       "      <th>C_02</th>\n",
       "      <th>C_03</th>\n",
       "      <th>C_04</th>\n",
       "      <th>C_05</th>\n",
       "      <th>C_06</th>\n",
       "      <th>C_07</th>\n",
       "      <th>C_08</th>\n",
       "      <th>C_09</th>\n",
       "      <th>...</th>\n",
       "      <th>C_45</th>\n",
       "      <th>C_46</th>\n",
       "      <th>C_47</th>\n",
       "      <th>C_48</th>\n",
       "      <th>C_49</th>\n",
       "      <th>C_50</th>\n",
       "      <th>C_51</th>\n",
       "      <th>C_52</th>\n",
       "      <th>D_1</th>\n",
       "      <th>TARGET</th>\n",
       "    </tr>\n",
       "  </thead>\n",
       "  <tbody>\n",
       "    <tr>\n",
       "      <th>0</th>\n",
       "      <td>674</td>\n",
       "      <td>41.903</td>\n",
       "      <td>-87.643</td>\n",
       "      <td>41.902</td>\n",
       "      <td>-87.648</td>\n",
       "      <td>41.901</td>\n",
       "      <td>-87.642</td>\n",
       "      <td>41.902</td>\n",
       "      <td>-87.649</td>\n",
       "      <td>41.900</td>\n",
       "      <td>...</td>\n",
       "      <td>1114</td>\n",
       "      <td>607.756</td>\n",
       "      <td>18.212</td>\n",
       "      <td>0.442</td>\n",
       "      <td>12.578</td>\n",
       "      <td>0.089</td>\n",
       "      <td>0.386</td>\n",
       "      <td>0.013</td>\n",
       "      <td>cat11</td>\n",
       "      <td>0.000</td>\n",
       "    </tr>\n",
       "    <tr>\n",
       "      <th>1</th>\n",
       "      <td>7397</td>\n",
       "      <td>NaN</td>\n",
       "      <td>NaN</td>\n",
       "      <td>NaN</td>\n",
       "      <td>NaN</td>\n",
       "      <td>NaN</td>\n",
       "      <td>NaN</td>\n",
       "      <td>NaN</td>\n",
       "      <td>NaN</td>\n",
       "      <td>NaN</td>\n",
       "      <td>...</td>\n",
       "      <td>981</td>\n",
       "      <td>800.979</td>\n",
       "      <td>514.138</td>\n",
       "      <td>0.430</td>\n",
       "      <td>16.391</td>\n",
       "      <td>0.070</td>\n",
       "      <td>0.174</td>\n",
       "      <td>0.261</td>\n",
       "      <td>cat01</td>\n",
       "      <td>0.000</td>\n",
       "    </tr>\n",
       "    <tr>\n",
       "      <th>2</th>\n",
       "      <td>11558</td>\n",
       "      <td>41.891</td>\n",
       "      <td>-87.641</td>\n",
       "      <td>41.897</td>\n",
       "      <td>-87.651</td>\n",
       "      <td>41.892</td>\n",
       "      <td>-87.646</td>\n",
       "      <td>41.899</td>\n",
       "      <td>-87.652</td>\n",
       "      <td>41.893</td>\n",
       "      <td>...</td>\n",
       "      <td>706</td>\n",
       "      <td>699.008</td>\n",
       "      <td>231.262</td>\n",
       "      <td>0.358</td>\n",
       "      <td>12.857</td>\n",
       "      <td>0.095</td>\n",
       "      <td>0.101</td>\n",
       "      <td>0.055</td>\n",
       "      <td>cat01</td>\n",
       "      <td>0.000</td>\n",
       "    </tr>\n",
       "    <tr>\n",
       "      <th>3</th>\n",
       "      <td>463</td>\n",
       "      <td>41.895</td>\n",
       "      <td>-87.665</td>\n",
       "      <td>41.897</td>\n",
       "      <td>-87.657</td>\n",
       "      <td>41.899</td>\n",
       "      <td>-87.667</td>\n",
       "      <td>41.898</td>\n",
       "      <td>-87.659</td>\n",
       "      <td>41.901</td>\n",
       "      <td>...</td>\n",
       "      <td>947</td>\n",
       "      <td>633.390</td>\n",
       "      <td>391.800</td>\n",
       "      <td>0.335</td>\n",
       "      <td>14.844</td>\n",
       "      <td>0.088</td>\n",
       "      <td>0.271</td>\n",
       "      <td>0.155</td>\n",
       "      <td>cat04</td>\n",
       "      <td>0.000</td>\n",
       "    </tr>\n",
       "    <tr>\n",
       "      <th>4</th>\n",
       "      <td>2409</td>\n",
       "      <td>41.896</td>\n",
       "      <td>-87.649</td>\n",
       "      <td>41.897</td>\n",
       "      <td>-87.648</td>\n",
       "      <td>41.896</td>\n",
       "      <td>-87.646</td>\n",
       "      <td>41.897</td>\n",
       "      <td>-87.645</td>\n",
       "      <td>41.896</td>\n",
       "      <td>...</td>\n",
       "      <td>917</td>\n",
       "      <td>714.956</td>\n",
       "      <td>80.775</td>\n",
       "      <td>0.454</td>\n",
       "      <td>12.955</td>\n",
       "      <td>0.078</td>\n",
       "      <td>0.149</td>\n",
       "      <td>0.031</td>\n",
       "      <td>cat07</td>\n",
       "      <td>0.000</td>\n",
       "    </tr>\n",
       "  </tbody>\n",
       "</table>\n",
       "<p>5 rows × 55 columns</p>\n",
       "</div>"
      ],
      "text/plain": [
       "      ID   C_01    C_02   C_03    C_04   C_05    C_06   C_07    C_08   C_09  \\\n",
       "0    674 41.903 -87.643 41.902 -87.648 41.901 -87.642 41.902 -87.649 41.900   \n",
       "1   7397    NaN     NaN    NaN     NaN    NaN     NaN    NaN     NaN    NaN   \n",
       "2  11558 41.891 -87.641 41.897 -87.651 41.892 -87.646 41.899 -87.652 41.893   \n",
       "3    463 41.895 -87.665 41.897 -87.657 41.899 -87.667 41.898 -87.659 41.901   \n",
       "4   2409 41.896 -87.649 41.897 -87.648 41.896 -87.646 41.897 -87.645 41.896   \n",
       "\n",
       "   ...  C_45    C_46    C_47  C_48   C_49  C_50  C_51  C_52    D_1  TARGET  \n",
       "0  ...  1114 607.756  18.212 0.442 12.578 0.089 0.386 0.013  cat11   0.000  \n",
       "1  ...   981 800.979 514.138 0.430 16.391 0.070 0.174 0.261  cat01   0.000  \n",
       "2  ...   706 699.008 231.262 0.358 12.857 0.095 0.101 0.055  cat01   0.000  \n",
       "3  ...   947 633.390 391.800 0.335 14.844 0.088 0.271 0.155  cat04   0.000  \n",
       "4  ...   917 714.956  80.775 0.454 12.955 0.078 0.149 0.031  cat07   0.000  \n",
       "\n",
       "[5 rows x 55 columns]"
      ]
     },
     "execution_count": 6,
     "metadata": {},
     "output_type": "execute_result"
    }
   ],
   "source": [
    "df.head()"
   ]
  },
  {
   "attachments": {},
   "cell_type": "markdown",
   "metadata": {},
   "source": [
    "## Variables del espacio  original $\\mathbb{R}^{52}$"
   ]
  },
  {
   "cell_type": "code",
   "execution_count": 7,
   "metadata": {},
   "outputs": [
    {
     "data": {
      "text/plain": [
       "52"
      ]
     },
     "execution_count": 7,
     "metadata": {},
     "output_type": "execute_result"
    }
   ],
   "source": [
    "varc = [v for v in df.columns if v[:2]=='C_']\n",
    "len(varc)"
   ]
  },
  {
   "cell_type": "code",
   "execution_count": 8,
   "metadata": {},
   "outputs": [],
   "source": [
    "X = df[varc].copy()"
   ]
  },
  {
   "cell_type": "markdown",
   "metadata": {},
   "source": [
    "## Tratamiento de ausentes"
   ]
  },
  {
   "cell_type": "code",
   "execution_count": 9,
   "metadata": {},
   "outputs": [
    {
     "data": {
      "text/html": [
       "<style>#sk-container-id-1 {color: black;background-color: white;}#sk-container-id-1 pre{padding: 0;}#sk-container-id-1 div.sk-toggleable {background-color: white;}#sk-container-id-1 label.sk-toggleable__label {cursor: pointer;display: block;width: 100%;margin-bottom: 0;padding: 0.3em;box-sizing: border-box;text-align: center;}#sk-container-id-1 label.sk-toggleable__label-arrow:before {content: \"▸\";float: left;margin-right: 0.25em;color: #696969;}#sk-container-id-1 label.sk-toggleable__label-arrow:hover:before {color: black;}#sk-container-id-1 div.sk-estimator:hover label.sk-toggleable__label-arrow:before {color: black;}#sk-container-id-1 div.sk-toggleable__content {max-height: 0;max-width: 0;overflow: hidden;text-align: left;background-color: #f0f8ff;}#sk-container-id-1 div.sk-toggleable__content pre {margin: 0.2em;color: black;border-radius: 0.25em;background-color: #f0f8ff;}#sk-container-id-1 input.sk-toggleable__control:checked~div.sk-toggleable__content {max-height: 200px;max-width: 100%;overflow: auto;}#sk-container-id-1 input.sk-toggleable__control:checked~label.sk-toggleable__label-arrow:before {content: \"▾\";}#sk-container-id-1 div.sk-estimator input.sk-toggleable__control:checked~label.sk-toggleable__label {background-color: #d4ebff;}#sk-container-id-1 div.sk-label input.sk-toggleable__control:checked~label.sk-toggleable__label {background-color: #d4ebff;}#sk-container-id-1 input.sk-hidden--visually {border: 0;clip: rect(1px 1px 1px 1px);clip: rect(1px, 1px, 1px, 1px);height: 1px;margin: -1px;overflow: hidden;padding: 0;position: absolute;width: 1px;}#sk-container-id-1 div.sk-estimator {font-family: monospace;background-color: #f0f8ff;border: 1px dotted black;border-radius: 0.25em;box-sizing: border-box;margin-bottom: 0.5em;}#sk-container-id-1 div.sk-estimator:hover {background-color: #d4ebff;}#sk-container-id-1 div.sk-parallel-item::after {content: \"\";width: 100%;border-bottom: 1px solid gray;flex-grow: 1;}#sk-container-id-1 div.sk-label:hover label.sk-toggleable__label {background-color: #d4ebff;}#sk-container-id-1 div.sk-serial::before {content: \"\";position: absolute;border-left: 1px solid gray;box-sizing: border-box;top: 0;bottom: 0;left: 50%;z-index: 0;}#sk-container-id-1 div.sk-serial {display: flex;flex-direction: column;align-items: center;background-color: white;padding-right: 0.2em;padding-left: 0.2em;position: relative;}#sk-container-id-1 div.sk-item {position: relative;z-index: 1;}#sk-container-id-1 div.sk-parallel {display: flex;align-items: stretch;justify-content: center;background-color: white;position: relative;}#sk-container-id-1 div.sk-item::before, #sk-container-id-1 div.sk-parallel-item::before {content: \"\";position: absolute;border-left: 1px solid gray;box-sizing: border-box;top: 0;bottom: 0;left: 50%;z-index: -1;}#sk-container-id-1 div.sk-parallel-item {display: flex;flex-direction: column;z-index: 1;position: relative;background-color: white;}#sk-container-id-1 div.sk-parallel-item:first-child::after {align-self: flex-end;width: 50%;}#sk-container-id-1 div.sk-parallel-item:last-child::after {align-self: flex-start;width: 50%;}#sk-container-id-1 div.sk-parallel-item:only-child::after {width: 0;}#sk-container-id-1 div.sk-dashed-wrapped {border: 1px dashed gray;margin: 0 0.4em 0.5em 0.4em;box-sizing: border-box;padding-bottom: 0.4em;background-color: white;}#sk-container-id-1 div.sk-label label {font-family: monospace;font-weight: bold;display: inline-block;line-height: 1.2em;}#sk-container-id-1 div.sk-label-container {text-align: center;}#sk-container-id-1 div.sk-container {/* jupyter's `normalize.less` sets `[hidden] { display: none; }` but bootstrap.min.css set `[hidden] { display: none !important; }` so we also need the `!important` here to be able to override the default hidden behavior on the sphinx rendered scikit-learn.org. See: https://github.com/scikit-learn/scikit-learn/issues/21755 */display: inline-block !important;position: relative;}#sk-container-id-1 div.sk-text-repr-fallback {display: none;}</style><div id=\"sk-container-id-1\" class=\"sk-top-container\"><div class=\"sk-text-repr-fallback\"><pre>SimpleImputer(strategy=&#x27;median&#x27;)</pre><b>In a Jupyter environment, please rerun this cell to show the HTML representation or trust the notebook. <br />On GitHub, the HTML representation is unable to render, please try loading this page with nbviewer.org.</b></div><div class=\"sk-container\" hidden><div class=\"sk-item\"><div class=\"sk-estimator sk-toggleable\"><input class=\"sk-toggleable__control sk-hidden--visually\" id=\"sk-estimator-id-1\" type=\"checkbox\" checked><label for=\"sk-estimator-id-1\" class=\"sk-toggleable__label sk-toggleable__label-arrow\">SimpleImputer</label><div class=\"sk-toggleable__content\"><pre>SimpleImputer(strategy=&#x27;median&#x27;)</pre></div></div></div></div></div>"
      ],
      "text/plain": [
       "SimpleImputer(strategy='median')"
      ]
     },
     "execution_count": 9,
     "metadata": {},
     "output_type": "execute_result"
    }
   ],
   "source": [
    "im = SimpleImputer(strategy='median')\n",
    "im.fit(X)"
   ]
  },
  {
   "cell_type": "code",
   "execution_count": 10,
   "metadata": {},
   "outputs": [],
   "source": [
    "Xi = pd.DataFrame(im.transform(X), columns=varc)\n"
   ]
  },
  {
   "cell_type": "code",
   "execution_count": 11,
   "metadata": {},
   "outputs": [
    {
     "data": {
      "text/plain": [
       "32"
      ]
     },
     "execution_count": 11,
     "metadata": {},
     "output_type": "execute_result"
    }
   ],
   "source": [
    "ks = pd.DataFrame(map(lambda v: (v, stats.ks_2samp(Xi[v], X[v].dropna(\n",
    ")).statistic), varc), columns=['var', 'ks']).sort_values('ks', ascending=False)\n",
    "fuera = list(ks[ks['ks'] > 0.1]['var'])\n",
    "varc = [v for v in varc if v not in fuera]\n",
    "len(varc)"
   ]
  },
  {
   "cell_type": "code",
   "execution_count": 12,
   "metadata": {},
   "outputs": [
    {
     "data": {
      "text/html": [
       "<style>#sk-container-id-2 {color: black;background-color: white;}#sk-container-id-2 pre{padding: 0;}#sk-container-id-2 div.sk-toggleable {background-color: white;}#sk-container-id-2 label.sk-toggleable__label {cursor: pointer;display: block;width: 100%;margin-bottom: 0;padding: 0.3em;box-sizing: border-box;text-align: center;}#sk-container-id-2 label.sk-toggleable__label-arrow:before {content: \"▸\";float: left;margin-right: 0.25em;color: #696969;}#sk-container-id-2 label.sk-toggleable__label-arrow:hover:before {color: black;}#sk-container-id-2 div.sk-estimator:hover label.sk-toggleable__label-arrow:before {color: black;}#sk-container-id-2 div.sk-toggleable__content {max-height: 0;max-width: 0;overflow: hidden;text-align: left;background-color: #f0f8ff;}#sk-container-id-2 div.sk-toggleable__content pre {margin: 0.2em;color: black;border-radius: 0.25em;background-color: #f0f8ff;}#sk-container-id-2 input.sk-toggleable__control:checked~div.sk-toggleable__content {max-height: 200px;max-width: 100%;overflow: auto;}#sk-container-id-2 input.sk-toggleable__control:checked~label.sk-toggleable__label-arrow:before {content: \"▾\";}#sk-container-id-2 div.sk-estimator input.sk-toggleable__control:checked~label.sk-toggleable__label {background-color: #d4ebff;}#sk-container-id-2 div.sk-label input.sk-toggleable__control:checked~label.sk-toggleable__label {background-color: #d4ebff;}#sk-container-id-2 input.sk-hidden--visually {border: 0;clip: rect(1px 1px 1px 1px);clip: rect(1px, 1px, 1px, 1px);height: 1px;margin: -1px;overflow: hidden;padding: 0;position: absolute;width: 1px;}#sk-container-id-2 div.sk-estimator {font-family: monospace;background-color: #f0f8ff;border: 1px dotted black;border-radius: 0.25em;box-sizing: border-box;margin-bottom: 0.5em;}#sk-container-id-2 div.sk-estimator:hover {background-color: #d4ebff;}#sk-container-id-2 div.sk-parallel-item::after {content: \"\";width: 100%;border-bottom: 1px solid gray;flex-grow: 1;}#sk-container-id-2 div.sk-label:hover label.sk-toggleable__label {background-color: #d4ebff;}#sk-container-id-2 div.sk-serial::before {content: \"\";position: absolute;border-left: 1px solid gray;box-sizing: border-box;top: 0;bottom: 0;left: 50%;z-index: 0;}#sk-container-id-2 div.sk-serial {display: flex;flex-direction: column;align-items: center;background-color: white;padding-right: 0.2em;padding-left: 0.2em;position: relative;}#sk-container-id-2 div.sk-item {position: relative;z-index: 1;}#sk-container-id-2 div.sk-parallel {display: flex;align-items: stretch;justify-content: center;background-color: white;position: relative;}#sk-container-id-2 div.sk-item::before, #sk-container-id-2 div.sk-parallel-item::before {content: \"\";position: absolute;border-left: 1px solid gray;box-sizing: border-box;top: 0;bottom: 0;left: 50%;z-index: -1;}#sk-container-id-2 div.sk-parallel-item {display: flex;flex-direction: column;z-index: 1;position: relative;background-color: white;}#sk-container-id-2 div.sk-parallel-item:first-child::after {align-self: flex-end;width: 50%;}#sk-container-id-2 div.sk-parallel-item:last-child::after {align-self: flex-start;width: 50%;}#sk-container-id-2 div.sk-parallel-item:only-child::after {width: 0;}#sk-container-id-2 div.sk-dashed-wrapped {border: 1px dashed gray;margin: 0 0.4em 0.5em 0.4em;box-sizing: border-box;padding-bottom: 0.4em;background-color: white;}#sk-container-id-2 div.sk-label label {font-family: monospace;font-weight: bold;display: inline-block;line-height: 1.2em;}#sk-container-id-2 div.sk-label-container {text-align: center;}#sk-container-id-2 div.sk-container {/* jupyter's `normalize.less` sets `[hidden] { display: none; }` but bootstrap.min.css set `[hidden] { display: none !important; }` so we also need the `!important` here to be able to override the default hidden behavior on the sphinx rendered scikit-learn.org. See: https://github.com/scikit-learn/scikit-learn/issues/21755 */display: inline-block !important;position: relative;}#sk-container-id-2 div.sk-text-repr-fallback {display: none;}</style><div id=\"sk-container-id-2\" class=\"sk-top-container\"><div class=\"sk-text-repr-fallback\"><pre>SimpleImputer(strategy=&#x27;median&#x27;)</pre><b>In a Jupyter environment, please rerun this cell to show the HTML representation or trust the notebook. <br />On GitHub, the HTML representation is unable to render, please try loading this page with nbviewer.org.</b></div><div class=\"sk-container\" hidden><div class=\"sk-item\"><div class=\"sk-estimator sk-toggleable\"><input class=\"sk-toggleable__control sk-hidden--visually\" id=\"sk-estimator-id-2\" type=\"checkbox\" checked><label for=\"sk-estimator-id-2\" class=\"sk-toggleable__label sk-toggleable__label-arrow\">SimpleImputer</label><div class=\"sk-toggleable__content\"><pre>SimpleImputer(strategy=&#x27;median&#x27;)</pre></div></div></div></div></div>"
      ],
      "text/plain": [
       "SimpleImputer(strategy='median')"
      ]
     },
     "execution_count": 12,
     "metadata": {},
     "output_type": "execute_result"
    }
   ],
   "source": [
    "im.fit(X[varc])"
   ]
  },
  {
   "cell_type": "code",
   "execution_count": 13,
   "metadata": {},
   "outputs": [],
   "source": [
    "Xi = pd.DataFrame(im.transform(X[varc]), columns=varc)\n"
   ]
  },
  {
   "cell_type": "code",
   "execution_count": 14,
   "metadata": {},
   "outputs": [
    {
     "data": {
      "text/html": [
       "<div>\n",
       "<style scoped>\n",
       "    .dataframe tbody tr th:only-of-type {\n",
       "        vertical-align: middle;\n",
       "    }\n",
       "\n",
       "    .dataframe tbody tr th {\n",
       "        vertical-align: top;\n",
       "    }\n",
       "\n",
       "    .dataframe thead th {\n",
       "        text-align: right;\n",
       "    }\n",
       "</style>\n",
       "<table border=\"1\" class=\"dataframe\">\n",
       "  <thead>\n",
       "    <tr style=\"text-align: right;\">\n",
       "      <th></th>\n",
       "      <th>C_17</th>\n",
       "      <th>C_18</th>\n",
       "      <th>C_19</th>\n",
       "      <th>C_20</th>\n",
       "      <th>C_22</th>\n",
       "      <th>C_23</th>\n",
       "      <th>C_24</th>\n",
       "      <th>C_25</th>\n",
       "      <th>C_26</th>\n",
       "      <th>C_27</th>\n",
       "      <th>...</th>\n",
       "      <th>C_42</th>\n",
       "      <th>C_43</th>\n",
       "      <th>C_44</th>\n",
       "      <th>C_45</th>\n",
       "      <th>C_46</th>\n",
       "      <th>C_47</th>\n",
       "      <th>C_49</th>\n",
       "      <th>C_50</th>\n",
       "      <th>C_51</th>\n",
       "      <th>C_52</th>\n",
       "    </tr>\n",
       "  </thead>\n",
       "  <tbody>\n",
       "    <tr>\n",
       "      <th>0</th>\n",
       "      <td>279.800</td>\n",
       "      <td>253.000</td>\n",
       "      <td>636.522</td>\n",
       "      <td>17.200</td>\n",
       "      <td>12.512</td>\n",
       "      <td>0.076</td>\n",
       "      <td>0.458</td>\n",
       "      <td>0.004</td>\n",
       "      <td>592.670</td>\n",
       "      <td>524.000</td>\n",
       "      <td>...</td>\n",
       "      <td>0.406</td>\n",
       "      <td>0.011</td>\n",
       "      <td>1416.460</td>\n",
       "      <td>1114.000</td>\n",
       "      <td>607.756</td>\n",
       "      <td>18.212</td>\n",
       "      <td>12.578</td>\n",
       "      <td>0.089</td>\n",
       "      <td>0.386</td>\n",
       "      <td>0.013</td>\n",
       "    </tr>\n",
       "    <tr>\n",
       "      <th>1</th>\n",
       "      <td>424.600</td>\n",
       "      <td>261.000</td>\n",
       "      <td>964.138</td>\n",
       "      <td>492.350</td>\n",
       "      <td>15.684</td>\n",
       "      <td>0.079</td>\n",
       "      <td>0.161</td>\n",
       "      <td>0.287</td>\n",
       "      <td>790.930</td>\n",
       "      <td>493.000</td>\n",
       "      <td>...</td>\n",
       "      <td>0.185</td>\n",
       "      <td>0.257</td>\n",
       "      <td>1504.420</td>\n",
       "      <td>981.000</td>\n",
       "      <td>800.979</td>\n",
       "      <td>514.138</td>\n",
       "      <td>16.391</td>\n",
       "      <td>0.070</td>\n",
       "      <td>0.174</td>\n",
       "      <td>0.261</td>\n",
       "    </tr>\n",
       "    <tr>\n",
       "      <th>2</th>\n",
       "      <td>217.580</td>\n",
       "      <td>124.000</td>\n",
       "      <td>690.000</td>\n",
       "      <td>167.550</td>\n",
       "      <td>12.970</td>\n",
       "      <td>0.108</td>\n",
       "      <td>0.048</td>\n",
       "      <td>0.032</td>\n",
       "      <td>498.690</td>\n",
       "      <td>296.000</td>\n",
       "      <td>...</td>\n",
       "      <td>0.104</td>\n",
       "      <td>0.025</td>\n",
       "      <td>1065.770</td>\n",
       "      <td>706.000</td>\n",
       "      <td>699.008</td>\n",
       "      <td>231.262</td>\n",
       "      <td>12.857</td>\n",
       "      <td>0.095</td>\n",
       "      <td>0.101</td>\n",
       "      <td>0.055</td>\n",
       "    </tr>\n",
       "    <tr>\n",
       "      <th>3</th>\n",
       "      <td>276.030</td>\n",
       "      <td>190.000</td>\n",
       "      <td>653.368</td>\n",
       "      <td>302.000</td>\n",
       "      <td>15.971</td>\n",
       "      <td>0.078</td>\n",
       "      <td>0.100</td>\n",
       "      <td>0.147</td>\n",
       "      <td>656.130</td>\n",
       "      <td>426.000</td>\n",
       "      <td>...</td>\n",
       "      <td>0.249</td>\n",
       "      <td>0.184</td>\n",
       "      <td>1385.090</td>\n",
       "      <td>947.000</td>\n",
       "      <td>633.390</td>\n",
       "      <td>391.800</td>\n",
       "      <td>14.844</td>\n",
       "      <td>0.088</td>\n",
       "      <td>0.271</td>\n",
       "      <td>0.155</td>\n",
       "    </tr>\n",
       "    <tr>\n",
       "      <th>4</th>\n",
       "      <td>257.860</td>\n",
       "      <td>236.000</td>\n",
       "      <td>706.780</td>\n",
       "      <td>277.750</td>\n",
       "      <td>12.613</td>\n",
       "      <td>0.077</td>\n",
       "      <td>0.144</td>\n",
       "      <td>0.059</td>\n",
       "      <td>548.680</td>\n",
       "      <td>482.000</td>\n",
       "      <td>...</td>\n",
       "      <td>0.165</td>\n",
       "      <td>0.034</td>\n",
       "      <td>1067.920</td>\n",
       "      <td>917.000</td>\n",
       "      <td>714.956</td>\n",
       "      <td>80.775</td>\n",
       "      <td>12.955</td>\n",
       "      <td>0.078</td>\n",
       "      <td>0.149</td>\n",
       "      <td>0.031</td>\n",
       "    </tr>\n",
       "  </tbody>\n",
       "</table>\n",
       "<p>5 rows × 32 columns</p>\n",
       "</div>"
      ],
      "text/plain": [
       "     C_17    C_18    C_19    C_20   C_22  C_23  C_24  C_25    C_26    C_27  \\\n",
       "0 279.800 253.000 636.522  17.200 12.512 0.076 0.458 0.004 592.670 524.000   \n",
       "1 424.600 261.000 964.138 492.350 15.684 0.079 0.161 0.287 790.930 493.000   \n",
       "2 217.580 124.000 690.000 167.550 12.970 0.108 0.048 0.032 498.690 296.000   \n",
       "3 276.030 190.000 653.368 302.000 15.971 0.078 0.100 0.147 656.130 426.000   \n",
       "4 257.860 236.000 706.780 277.750 12.613 0.077 0.144 0.059 548.680 482.000   \n",
       "\n",
       "   ...  C_42  C_43     C_44     C_45    C_46    C_47   C_49  C_50  C_51  C_52  \n",
       "0  ... 0.406 0.011 1416.460 1114.000 607.756  18.212 12.578 0.089 0.386 0.013  \n",
       "1  ... 0.185 0.257 1504.420  981.000 800.979 514.138 16.391 0.070 0.174 0.261  \n",
       "2  ... 0.104 0.025 1065.770  706.000 699.008 231.262 12.857 0.095 0.101 0.055  \n",
       "3  ... 0.249 0.184 1385.090  947.000 633.390 391.800 14.844 0.088 0.271 0.155  \n",
       "4  ... 0.165 0.034 1067.920  917.000 714.956  80.775 12.955 0.078 0.149 0.031  \n",
       "\n",
       "[5 rows x 32 columns]"
      ]
     },
     "execution_count": 14,
     "metadata": {},
     "output_type": "execute_result"
    }
   ],
   "source": [
    "Xi.head()"
   ]
  },
  {
   "cell_type": "markdown",
   "metadata": {},
   "source": [
    "## Reducción de dimensionalidad"
   ]
  },
  {
   "cell_type": "code",
   "execution_count": 15,
   "metadata": {},
   "outputs": [
    {
     "data": {
      "text/plain": [
       "((9294, 32), (9294, 32))"
      ]
     },
     "execution_count": 15,
     "metadata": {},
     "output_type": "execute_result"
    }
   ],
   "source": [
    "Xi.dropna().shape,Xi.shape"
   ]
  },
  {
   "cell_type": "code",
   "execution_count": 16,
   "metadata": {},
   "outputs": [
    {
     "data": {
      "text/plain": [
       "86378436"
      ]
     },
     "execution_count": 16,
     "metadata": {},
     "output_type": "execute_result"
    }
   ],
   "source": [
    "Xi.shape[0]**2"
   ]
  },
  {
   "cell_type": "code",
   "execution_count": 17,
   "metadata": {},
   "outputs": [],
   "source": [
    "Xi = Xi.sample(500).reset_index(drop=True)"
   ]
  },
  {
   "cell_type": "code",
   "execution_count": 22,
   "metadata": {},
   "outputs": [
    {
     "name": "stderr",
     "output_type": "stream",
     "text": [
      "/home/jose/entornos/amv/lib/python3.10/site-packages/sklearn/manifold/_mds.py:299: FutureWarning:\n",
      "\n",
      "The default value of `normalized_stress` will change to `'auto'` in version 1.4. To suppress this warning, manually set the value of `normalized_stress`.\n",
      "\n"
     ]
    }
   ],
   "source": [
    "sc = MinMaxScaler()\n",
    "mds = MDS(n_components=2,n_jobs=-1)\n",
    "sc.fit(Xi)\n",
    "Xm = pd.DataFrame(mds.fit_transform(sc.transform(Xi)), columns=['d1', 'd2'])"
   ]
  },
  {
   "cell_type": "code",
   "execution_count": 23,
   "metadata": {},
   "outputs": [
    {
     "data": {
      "application/vnd.plotly.v1+json": {
       "config": {
        "linkText": "Export to plot.ly",
        "plotlyServerURL": "https://plot.ly",
        "showLink": true
       },
       "data": [
        {
         "line": {
          "color": "rgba(128, 0, 128, 1.0)",
          "dash": "solid",
          "shape": "linear",
          "width": 1.3
         },
         "marker": {
          "size": 5,
          "symbol": "circle"
         },
         "mode": "markers",
         "name": "d2",
         "text": "",
         "type": "scatter",
         "x": [
          -0.8665047524028648,
          0.7244462117264606,
          0.34505879895670505,
          -0.44044515063149325,
          0.053807062296557684,
          0.2158960383980978,
          0.423195930796253,
          -0.3436930545842081,
          0.5654871761209691,
          -0.6644427100108146,
          -0.0116689338760765,
          0.09774396304296487,
          0.9453810863264602,
          0.8424241129829996,
          -0.1051917570179394,
          0.9144151376637415,
          0.2977090434782258,
          0.30376645129977375,
          -0.03795829229937533,
          -1.753125271998352,
          -0.5264828922126895,
          -0.16918851210268365,
          0.7201375919469932,
          -0.8574625539672176,
          -0.20318662512791263,
          0.30707689217071965,
          0.8867944990856931,
          -0.06393951379254327,
          0.6131743781806075,
          0.17067776265988024,
          0.6597057817440497,
          -0.6461235128509163,
          0.1963283044131017,
          -0.19130564923989563,
          0.038926557643936835,
          -0.7268236840291522,
          -0.2804538249409221,
          0.2595837194525876,
          0.10611045719649763,
          -0.0837044090593347,
          0.1505678730544883,
          -0.038649038589388056,
          0.20814853560763705,
          0.5103422335037471,
          0.3268360592590482,
          -0.8603770771552688,
          -0.16160288008157947,
          0.054269501731599806,
          0.24112808852020653,
          0.2574808303128321,
          -0.20185339688208495,
          -0.021917834103132593,
          -0.010354378611802889,
          -0.08154776019208591,
          -0.26213341077555224,
          0.41803586503987455,
          0.4064609377530126,
          -0.2559632947289276,
          -0.060044139496204775,
          -0.07135473770273601,
          0.42243423185975315,
          0.26518729574371425,
          0.6720497292425034,
          0.884335795749262,
          0.4733533372949009,
          -0.25728999631639193,
          -1.566748931133996,
          -0.1266485800753994,
          -0.3143874308696817,
          -0.8814063936809736,
          0.9051516949217104,
          0.7121207858644527,
          -0.7893618446352267,
          -0.35047309646743685,
          1.0195466374772717,
          0.7651428239681729,
          0.7626082336841725,
          -0.1394452250721334,
          -0.8601091156098604,
          0.4345236323580149,
          -0.3748453600291606,
          -0.22580116408714387,
          0.7741617263427399,
          0.03618364107230738,
          -0.1257205469826532,
          0.06762317325116134,
          0.8700378513571504,
          -0.025941402726305164,
          -0.01848042018575671,
          -0.037816053051722684,
          -0.0292294924685616,
          -0.5845725363352008,
          -0.24122392386217048,
          -0.0015813221944822118,
          0.1635403686255152,
          0.6185459694107317,
          0.5476741255706474,
          0.5738765912478304,
          0.3858549573036317,
          -0.08454315184167413,
          -0.2279501847523817,
          -0.5774375337844158,
          0.8469841382401512,
          0.6365042064199492,
          0.005731941864030176,
          0.774425096028151,
          -0.6342977183368191,
          0.7980424788727074,
          0.19393726871130204,
          0.34898539018879643,
          0.2773080288006368,
          0.2082629339194357,
          -0.1790023080553698,
          0.18826829804983664,
          -1.3283016650294053,
          -0.1002158446453989,
          -0.4046444222318909,
          0.8136819074099451,
          -0.14630734775952065,
          0.08776226118665492,
          -0.26847534618438235,
          -0.7429356436124634,
          -0.13197254897717434,
          -0.1056159033533608,
          0.0893580273253651,
          0.14636710758073038,
          0.0021355998723209526,
          0.9346348918530427,
          0.09522371461900934,
          -0.8016263682972978,
          -0.8813907649387058,
          -0.7601668492555355,
          -0.07134013208649165,
          1.0901802316767455,
          -0.08890246894198844,
          0.01231439189404023,
          -0.24448437781194213,
          0.22383845619297146,
          -0.27084102613891176,
          0.2912327310792844,
          -0.9439814679618119,
          0.257537111318956,
          0.22507105866798338,
          -0.34356353761674335,
          -0.7399306101459762,
          0.04740156881794721,
          0.8743532249948737,
          -0.505148070578624,
          0.3469843364092772,
          -0.9842069584749121,
          -0.0358145257261192,
          -1.2718411691928841,
          0.8124573848634885,
          -0.11686429022216396,
          -0.31882019032494685,
          -0.3645096982444208,
          -0.15836053226475877,
          -0.46937533885228855,
          0.08927695640274456,
          -0.36915366792585386,
          -0.23392049927762587,
          0.4171890515539503,
          0.7391595187170552,
          -0.1674788993108912,
          0.08040480538265622,
          0.3364389865449397,
          -0.6386842196808322,
          0.0649186457128711,
          -1.4628575666760226,
          -0.006348634876731478,
          0.6492503738734652,
          -0.6326586923636132,
          -0.6775503034852796,
          -0.029270234658120085,
          -0.200951008483733,
          -0.14530913011003904,
          -1.0299268749233956,
          0.3987330950793628,
          0.03682564250330097,
          -0.21861234513055838,
          1.0006540970637057,
          -0.30624870667109044,
          0.25969102283346696,
          0.09893480379183255,
          -0.040001104716783545,
          0.4959769678287046,
          -0.13504797777728128,
          -0.6746067829039799,
          -0.2940721967364726,
          0.41773920635833045,
          0.5679327944146109,
          0.9061516828873099,
          -1.2691729379440018,
          0.1492688443459162,
          0.03509192774585501,
          -0.26877066950490985,
          0.04158219454809594,
          -0.7894479858059327,
          -0.9258381878160892,
          -0.23029358137179193,
          0.1304529025930918,
          0.013744513533801279,
          -0.8571990902909915,
          0.49300748223821445,
          0.08004276775697644,
          0.30968409728959384,
          -0.23475266585549825,
          0.3613902120457355,
          0.7389081114599353,
          0.11404938552109914,
          -0.09299527714802215,
          -0.05473500079405506,
          -0.07955453083803417,
          0.1533204142260023,
          -0.17340566428899676,
          -0.044860566762887924,
          0.14197223410179993,
          0.46770965821690236,
          0.6468284557924274,
          0.9455131234491377,
          -0.4262467562563341,
          0.8941793439860853,
          0.6047962742825707,
          -0.8875264257216677,
          0.028407985015907623,
          -0.03757169364062322,
          0.8343363422914232,
          -0.9280232433151568,
          -0.6354147396608488,
          -0.07161334363252306,
          -0.012726185460621401,
          0.17285611532587092,
          -0.6188522168562728,
          -1.09749408886295,
          -0.5960663800790981,
          0.3596083537853449,
          -0.16514845048641358,
          0.10038508705806705,
          -0.19540510019389778,
          0.26170633369442087,
          0.10681758844285139,
          0.32114952975939565,
          -0.3382892065832354,
          -0.3706792574708996,
          0.8426669655155377,
          0.019207561665008917,
          -0.4154694098106277,
          0.2114558339165299,
          -0.17905359163679022,
          0.007336709546868331,
          0.07697173509435201,
          0.3896791210903118,
          -0.0023407915975997362,
          -0.06674915531479599,
          0.13635301461847704,
          0.041701680916065395,
          0.5855651931037221,
          0.16088837198325667,
          -0.3957666947028423,
          0.36767791237328945,
          0.20899309407459807,
          0.06280809854186516,
          0.27563555921569177,
          -0.35640348220432827,
          0.3297922772975514,
          0.01106147600032814,
          0.013245059485764616,
          -0.8512807581525723,
          -0.870220384654592,
          -0.7537869550603784,
          -1.4945658272037003,
          0.3394621038916853,
          -0.07239401727335329,
          -0.06271094476180841,
          0.8942491696323004,
          0.09662046988373447,
          -0.26099218346912234,
          0.2173441772006352,
          -0.57431945692613,
          -0.48613725942922725,
          0.26642177887047297,
          0.08036270235975929,
          -0.8547759311795791,
          -0.11681715776916059,
          0.35536146803516494,
          -0.9307546757788537,
          0.16466459049402016,
          -0.29703846962181435,
          0.09248893983217991,
          0.1782956922152551,
          -0.38422192154872437,
          0.3208277294723453,
          -0.20479281889121073,
          -0.36462680245370593,
          -0.03937441208003384,
          0.3620095209856972,
          -0.9307826516403087,
          0.23143766084624331,
          -0.4114381167618192,
          0.1050098052017841,
          0.4683074210112247,
          0.7397531935692025,
          0.4159749039476438,
          -0.047959748595518645,
          -0.2372718081097152,
          0.16444639253911467,
          -0.5413079629172892,
          -0.8147992862147433,
          0.472040293004613,
          -0.014726161850787418,
          0.03744444907635396,
          -0.07415091803514137,
          0.832420771949366,
          -0.16594401938367814,
          1.210284048323777,
          1.281592371123362,
          0.29850317895848866,
          -0.8890541803127511,
          0.9431612491015176,
          -0.15257303481328544,
          -0.6585931875869189,
          -1.7509074287073154,
          0.1311924274796101,
          1.0562139639380852,
          -0.7676651104287842,
          0.01373227304587531,
          0.8583526723956935,
          -0.37349122245939703,
          -0.4159394230643632,
          0.24939884243143673,
          -0.0075111502295401025,
          -0.3610402635494088,
          0.17422588759983273,
          0.340644361679677,
          0.2820918762294748,
          0.740871931457864,
          -0.1720852811682125,
          0.20952581070008675,
          -0.5883830849961861,
          -1.9156942226826392,
          -0.4216664624214736,
          0.3026854797264082,
          -0.8429407623287559,
          0.2674731895051281,
          0.30702232328863593,
          0.06505087388232628,
          -1.327937342546652,
          1.1587017949927543,
          -0.27044879768001795,
          -0.05484635149572366,
          -0.34516181964129183,
          0.1695164312331104,
          -0.5336967795516998,
          -0.09013937051867459,
          -0.19943725477406324,
          -1.2706879002663223,
          0.20762357560012565,
          0.10568771554084672,
          0.8912206113558891,
          0.05135445962336313,
          -0.0796441370751252,
          -0.04123364387961097,
          -0.7236725469131704,
          0.10595225923717379,
          -0.06781615615631831,
          0.6824636860233523,
          0.3480235445463606,
          1.017613433210593,
          -0.42818966869978514,
          0.0439806037516794,
          0.43403690466424544,
          0.7367925985744881,
          -0.9984219278350874,
          0.05801007781981193,
          0.22442839463490277,
          0.24203966734312596,
          -0.2488530244600173,
          0.3217970412673691,
          0.27164271962963416,
          -0.7921769788254868,
          0.1058318921885937,
          -0.010313594337376476,
          0.1510953001599751,
          -0.20735775466958953,
          -0.6260853112716372,
          0.20240938653946258,
          0.3662878616711363,
          0.5166557464271008,
          0.2051589654922538,
          -0.9985346943437757,
          -0.7722722064309082,
          -0.28066519450672467,
          -0.9828824853248219,
          0.12023578727889055,
          0.40033854967883725,
          0.17868925596410778,
          -0.8363124752629053,
          0.05212644654814415,
          0.2815351016504307,
          -0.9432922945226804,
          -0.21789275903304478,
          -0.19556984061445526,
          0.31204653393678805,
          -0.3762690763688042,
          0.405073991436551,
          0.37828937258706025,
          0.312865190173877,
          -0.06331175325165489,
          0.8076737374230974,
          -0.9740279541436345,
          -0.11878339440242677,
          0.6118007200428318,
          0.014452583580125737,
          0.8486824461263145,
          0.10461545727399588,
          0.21540487940778136,
          0.11409778826940221,
          0.8004781588552279,
          -0.6289946865462094,
          -0.7500399749798047,
          -0.9600985885416687,
          -0.7569771467456667,
          0.1660488671669034,
          0.12159383760834949,
          -0.3500102919611111,
          0.17347918412372487,
          0.22244594550806368,
          0.8082074255839459,
          0.177267053958778,
          0.07360955049236617,
          -0.19642162968986016,
          -0.2181609331281161,
          -0.21233766561071155,
          0.34684755682793267,
          0.898903820660222,
          0.14982679360266232,
          -0.632624365855688,
          -0.5336969265977017,
          0.06794973716771319,
          -0.5348445434833121,
          1.3060626768692787,
          -0.30671186449393406,
          -0.5167836096185259,
          0.12127539639174963,
          0.4347491150002702,
          0.8064517252144308,
          0.47146097550441374,
          0.717639473758953,
          0.1278360983764723,
          0.05076068944020639,
          0.1764304665181291,
          0.35080129641631336,
          -0.046456606574728304,
          0.02307156652216952,
          -0.29113833158454294,
          0.19044261882590294,
          1.2887548982490282,
          0.8811506634329552,
          0.4492272849352363,
          -0.01678874659864279,
          -0.5929351385342351,
          -0.007454223152575018,
          -0.11037276370417891,
          0.10372903497192001,
          0.9602420227626031,
          -0.763330499834622,
          -0.04661873926722347,
          -0.2020871302681459,
          0.7667736823302581,
          -0.1476887147775039,
          0.6975140463705094,
          0.6444074410736518,
          0.7662357616683939,
          0.00965149788327991,
          0.24879122906407367,
          -0.1375879193044979,
          0.492592533598757,
          0.09752625374692375,
          0.21400655494318147,
          -0.41797380456051625,
          -0.19078027536439288,
          -0.026425615120994502,
          -0.9772311594535347,
          0.6909782486661695,
          -0.18167184023478075,
          -1.5555133354258348,
          0.016480638177609815,
          0.3313644520836776,
          0.2863279097048201,
          0.5716629671733799,
          -1.5818890124200018,
          -0.6348301405777564,
          0.20553552003233666,
          0.1487147473782918,
          -0.01326013012552231,
          0.17968963329993817,
          -0.4597264043530791,
          0.09053199285226475,
          0.23006035285518137,
          1.0321600384070133
         ],
         "y": [
          0.11292682744967135,
          -0.7185160009165401,
          0.7203082904432809,
          0.35249492636562296,
          1.1142868608494492,
          0.3192524936931495,
          0.6620216101007845,
          0.18452110692026258,
          -0.3955661560496903,
          -2.5332096074253547,
          -0.02060506254241838,
          -0.3230017080204243,
          -1.2406249643622929,
          -0.18016138150629513,
          0.9582257958794452,
          -0.3454835204489906,
          -0.6612313664864058,
          0.42163152143935567,
          0.42934418498315735,
          -0.8415973194541527,
          0.2922263917292442,
          0.595303014035893,
          -0.8036318028424937,
          -1.3303035984957163,
          -0.3020084033546316,
          0.29580635160231,
          0.7211753336987022,
          -0.10418826262677673,
          -0.3576574521753678,
          0.7306916750033193,
          0.46200417760949813,
          -0.37136036964868296,
          0.7925665347973823,
          -0.44693738873523836,
          0.24988947289379057,
          -1.0006296266729326,
          1.4110380692892557,
          0.28162248838314863,
          0.3064883850672001,
          -0.7411623061918963,
          0.6130155973837769,
          0.12752611774387865,
          0.1421887127242367,
          -0.8542746529966844,
          0.4943248923770341,
          0.8925527647436726,
          -0.49221918022073036,
          -0.5185877462034704,
          0.9011635520984204,
          0.7356567949808466,
          -0.42476711669012057,
          -0.2242407794152863,
          1.0005377714199895,
          -0.1634735220227268,
          0.6742063139777816,
          -0.44914582977895984,
          0.3755508884475461,
          0.2264957839738786,
          -0.18642170447137021,
          0.6760219129348761,
          -1.1701187169010467,
          -0.08056325194834185,
          -0.521831773679061,
          0.047100407755288225,
          0.5512611300975159,
          0.30283887091950606,
          0.22378411265143164,
          0.2833643863472068,
          0.6009430327917272,
          -0.8250958375440939,
          -0.24445263632839018,
          -0.6520794280706068,
          -0.8644707106322317,
          -0.30346215149753125,
          0.0898600257781298,
          -0.4251513379218136,
          -0.4943175646978463,
          0.42438048128522227,
          -0.8193994817319635,
          -0.04743505531973801,
          0.4391700599333993,
          0.0764080265237283,
          -0.3398561033296319,
          0.6060062981177777,
          -0.10702951282444777,
          -0.29152742480245675,
          -0.055113967900617775,
          -1.7511849905799934,
          0.18061711011181233,
          0.47847435865699806,
          -0.052465004914897216,
          -1.1615652700280334,
          0.14456647377216073,
          -1.1752743418182277,
          0.9194000698791747,
          -1.0097173717999184,
          -0.6693680649057815,
          1.0730350336101362,
          -1.2598256065794537,
          0.0388402539218349,
          -0.02773004419077744,
          -0.18961219527027753,
          -0.13845304804707698,
          -0.2769243424274095,
          0.6183117693054073,
          -0.365899547168914,
          0.26106690247863673,
          -0.48246879913963475,
          0.5824610914231584,
          0.16862094187745783,
          -0.15055655898158274,
          0.9739261443714822,
          0.5562284963810951,
          -0.05375971135514417,
          -0.6101681839995845,
          0.003099260548515492,
          0.025453269757890695,
          -0.1910849138729251,
          0.39557795346041336,
          -0.08521651198885977,
          -1.040227212775199,
          -0.9410459160486445,
          1.0218934569930163,
          0.8123049206989759,
          0.4331879087904552,
          0.36233152528551194,
          0.01752047443080817,
          -0.2694208152130254,
          1.3852832511830626,
          -0.8508354080881798,
          -0.8249910120383497,
          -1.0509509149830716,
          0.20567550364619683,
          0.09529894424448417,
          -0.28649047147901774,
          1.1206547720610334,
          0.017209766942303837,
          0.8024658428378618,
          -0.06522226924577285,
          0.8872113157114274,
          0.35524416791451263,
          0.46697896880143047,
          0.5427895863441956,
          0.9410731200144206,
          -0.9199153521432907,
          -0.2736526077576759,
          -0.25287469018081843,
          0.16514357029896104,
          0.29132843637516476,
          0.6624209151388234,
          0.040414098327501466,
          -0.38717091072751875,
          -0.11982118065000842,
          0.5132515858377983,
          1.0909242945609214,
          -0.07880465403990825,
          -0.7692620981713185,
          -0.14560146033631777,
          0.24116704093730265,
          -0.37218868171600145,
          0.541320849770448,
          -0.4859120045457055,
          -0.1401506596541721,
          -0.37857583192050925,
          0.2814187078952664,
          -0.4607297612467864,
          0.319057672762802,
          0.18170738217763996,
          -0.3752054199443294,
          0.36560359542535037,
          0.5554004525651585,
          -0.9587562385475438,
          -0.6817155535799776,
          0.6882529350239238,
          0.4665299333750677,
          0.19412442090637846,
          -0.08854272870246883,
          0.6783156762683843,
          -0.8884719258654562,
          -0.1297532475448465,
          0.29912782906599183,
          0.06645711878280436,
          0.39255479202067056,
          0.37585703407156235,
          0.15995806553757277,
          1.3019984773350601,
          0.7002520226654667,
          0.4128879230254813,
          -0.930829624567611,
          -1.032314077707141,
          -0.3785906457698145,
          -0.5849717268434813,
          -0.8736772839138224,
          -0.1715749681569791,
          0.5014468451845803,
          0.20500161964014035,
          0.011534153928644528,
          -1.1672928966924785,
          0.4449487309539934,
          -1.08533582085953,
          -0.9718102900302246,
          0.8602018155478997,
          0.29646403674143934,
          0.37908099036723913,
          0.2256324269783595,
          0.7725963316953446,
          0.35580867577333,
          0.08897746636059488,
          -0.33094322124989006,
          0.03230729531679803,
          -0.37022205853128637,
          -0.118708746435623,
          0.06885883813916191,
          -0.26298143989153683,
          -0.17660569349111957,
          0.6549655342512871,
          0.414527777574014,
          -0.43810034663380143,
          -0.7024444008490361,
          0.03996994695496518,
          -0.4640144450892908,
          -0.7424259573170934,
          -0.4171713994532758,
          -0.9481252824487144,
          -0.7691702377897431,
          -0.8918823117715212,
          -0.3102820383567282,
          0.03263226922467237,
          0.6576621906358844,
          -0.07062329686672635,
          -0.22208492763822027,
          0.25664501586495997,
          0.5197669712939024,
          -0.36860099193013524,
          -0.9566223474929896,
          0.42091453282963254,
          0.4937613526281369,
          0.3179660465034719,
          0.5386783706355263,
          0.18024610140021444,
          -0.13954886787598322,
          -1.5513088009838307,
          -0.05855729688279068,
          -0.28958670160795263,
          -0.24391167729750854,
          1.2841388723176885,
          0.28957554396196145,
          -0.5111925057687785,
          0.30709938275701226,
          -0.16770742437998404,
          -0.16065314607664943,
          0.8563834598248905,
          0.4980445700827851,
          0.4558623113024315,
          0.6179298037767196,
          0.8233292116900364,
          0.37465383546723885,
          0.07468481945442201,
          0.28296782548547444,
          -0.07996609965515604,
          0.4553676284102618,
          -0.2059512428208954,
          0.0889451823262233,
          -0.7936820933556058,
          0.6108991452651441,
          -0.9385225452542084,
          0.9431184767080292,
          -0.6656845123757047,
          -0.10690050969408725,
          -0.7207126984184096,
          -0.20242043677829252,
          0.20879243202099712,
          -0.08228210811470352,
          -0.40074495844623925,
          0.4768665826808172,
          0.9450352196997651,
          0.04066018936058118,
          -0.23528003757177868,
          -0.8514510952828226,
          -0.01205105811760573,
          -0.12515722336509047,
          -0.2621078340522745,
          -1.8920818564992432,
          -0.22604211875994087,
          0.2760368604016637,
          0.8907691457514544,
          0.01782315903912675,
          -0.32675477345967285,
          0.004297078913686207,
          -0.2275527154784469,
          -0.28320682746159537,
          1.33798569065334,
          0.10942492024808238,
          -0.013978505360686103,
          0.08016682333545835,
          -0.5812827554012313,
          -1.4936219352122977,
          0.011536695880805733,
          0.26818716017729427,
          1.8268312740238946,
          0.04196898363718164,
          -0.29494492215363904,
          -0.7677207819247516,
          0.4513566269829683,
          -0.2169961974298232,
          0.21499283055061313,
          0.5324115589510685,
          -0.48337326624294746,
          0.5286251487838787,
          -0.2989808108975982,
          0.3519597126218072,
          0.6521363391254131,
          -0.5906234146114584,
          -1.000385963193895,
          -0.4066793491518517,
          -1.0302486770082695,
          0.6529087664229005,
          0.22478028640229994,
          -0.028349125712704704,
          -0.1396139349671563,
          -0.3539096956860898,
          -0.3723153316984094,
          0.2449207126517841,
          0.024877436667452166,
          0.0059339356998510786,
          0.06783535925485967,
          -0.17499883912492617,
          -0.38182933650288886,
          1.2938771891635605,
          0.350547241098652,
          -0.2725573360375998,
          -0.2943315591159829,
          -0.9166894728985308,
          0.06093949893407713,
          0.336629192773743,
          -0.08670014121199994,
          -1.5897338602420956,
          1.7599082242393744,
          -0.7477744375113392,
          -0.14358254384670444,
          0.1014008902473048,
          0.6808346101734841,
          -0.1280830743716035,
          -0.7840769194593386,
          -0.8095637442090207,
          -0.6052067806725383,
          -0.31996840138294347,
          -0.38294243645767145,
          0.38998205094795885,
          -0.526212719783959,
          0.3691659959018378,
          0.8125094787663636,
          -0.4985168023500815,
          0.21683511820561077,
          0.03858832492985485,
          -0.7762469593306787,
          0.1733740536850865,
          1.416632672180902,
          0.24181182845432278,
          0.29425630118899526,
          -0.24750340934875778,
          0.33733349681383346,
          -0.16776236007778964,
          0.7006085830725591,
          0.35628135309735476,
          -0.38549348987023635,
          0.6001444818575268,
          -0.47021685719698214,
          0.08314329035219416,
          -0.1754658854138246,
          0.4935925779680997,
          -0.5340361132726579,
          -0.6713275474137838,
          -0.371823693533466,
          0.3518728838510409,
          -0.2422785714100329,
          -0.011786598806040445,
          0.10242026122086821,
          -0.6838452994184177,
          -0.8308316329191063,
          -0.3507580176373392,
          0.06544426379475594,
          1.1754211260974383,
          0.6567585333836067,
          -0.08698723829862169,
          0.6046640536588063,
          0.13414580250902908,
          0.8864686129789667,
          0.6580260026975022,
          -0.7741191679146576,
          -0.9211478454336053,
          -0.14855684490462936,
          -0.44566120313202034,
          -0.3231277918734767,
          -0.6217066446438029,
          0.1054206495821487,
          -1.2864374169228585,
          0.5059726976306397,
          -0.6416927932819404,
          0.9694643029842303,
          0.19377141507303064,
          -0.7168711202274051,
          -0.3180740274630358,
          -0.026744709352225657,
          0.184094819342447,
          0.1834430093216222,
          0.02632719585693411,
          -0.774367242515458,
          1.509952142662522,
          -0.29777944652990324,
          -0.07319188198913837,
          0.41947125275544045,
          0.33297576854015587,
          -0.20266427450197813,
          0.3865532192565725,
          0.5411903647805317,
          1.00695914826714,
          -0.2354626952495722,
          0.2303313751606716,
          -1.0426520899990117,
          0.00033370833528275766,
          -1.0723677015700952,
          0.03049576744900018,
          0.5596693975074337,
          -0.11860716268987874,
          0.5258161262087642,
          0.43428528657131765,
          0.1354912216091563,
          0.4036922348874708,
          0.3328877369099763,
          -0.8583521141196128,
          -0.15315698669746616,
          0.4213979111203043,
          0.24280298814144202,
          0.08078276938040539,
          0.8288006637921137,
          -0.17957774653899597,
          -0.49851665465791184,
          1.0474679016599453,
          0.5785404823068803,
          0.31392349894867105,
          -0.7719007980375082,
          0.8824504668543695,
          0.25959485588339715,
          1.1093117582964127,
          -0.617608561267246,
          0.6282209710559448,
          -0.6189700923437249,
          1.0100594940818153,
          0.038385270392844104,
          -0.09908208258408584,
          -0.2645438809712861,
          0.1962442456301459,
          -0.11635798560892717,
          -0.25118963529875615,
          0.22809088800131666,
          -0.05516043153980724,
          -0.07153840729198795,
          -0.389235558019982,
          -0.19684319314296783,
          -0.7275449160338558,
          -0.3107081884609644,
          0.051050678351369984,
          0.46226874711440175,
          -0.1792778860221694,
          -0.7146208878077801,
          0.28577592181902883,
          0.31985023646209837,
          -0.058806332335657616,
          0.2063031610784068,
          -0.812120426910619,
          -0.5262250969880293,
          -0.46941670701136873,
          0.5007857517598576,
          0.9336838297250943,
          -0.28181548050684313,
          0.5670643535231199,
          0.8141899192523501,
          -0.022957331146230196,
          0.3755460426944468,
          0.33890446742868796,
          1.0270315866149944,
          -0.6268694330447677,
          0.12316833357068913,
          0.4695329485304119,
          -0.02655293266173265,
          0.279559288062998,
          -0.9025456517716823,
          -0.2980337190307171,
          -0.47482749381979056,
          0.3132986529720331,
          -0.4161283212330846,
          0.40183725032217127,
          0.9756928678601112,
          0.7320260123959699,
          -1.0660580161270024,
          0.1434071044994755,
          0.5933765130834454,
          1.7602084145528318,
          -0.7971976324789715
         ]
        }
       ],
       "layout": {
        "legend": {
         "bgcolor": "#F5F6F9",
         "font": {
          "color": "#4D5663"
         }
        },
        "paper_bgcolor": "#F5F6F9",
        "plot_bgcolor": "#F5F6F9",
        "template": {
         "data": {
          "bar": [
           {
            "error_x": {
             "color": "#2a3f5f"
            },
            "error_y": {
             "color": "#2a3f5f"
            },
            "marker": {
             "line": {
              "color": "#E5ECF6",
              "width": 0.5
             },
             "pattern": {
              "fillmode": "overlay",
              "size": 10,
              "solidity": 0.2
             }
            },
            "type": "bar"
           }
          ],
          "barpolar": [
           {
            "marker": {
             "line": {
              "color": "#E5ECF6",
              "width": 0.5
             },
             "pattern": {
              "fillmode": "overlay",
              "size": 10,
              "solidity": 0.2
             }
            },
            "type": "barpolar"
           }
          ],
          "carpet": [
           {
            "aaxis": {
             "endlinecolor": "#2a3f5f",
             "gridcolor": "white",
             "linecolor": "white",
             "minorgridcolor": "white",
             "startlinecolor": "#2a3f5f"
            },
            "baxis": {
             "endlinecolor": "#2a3f5f",
             "gridcolor": "white",
             "linecolor": "white",
             "minorgridcolor": "white",
             "startlinecolor": "#2a3f5f"
            },
            "type": "carpet"
           }
          ],
          "choropleth": [
           {
            "colorbar": {
             "outlinewidth": 0,
             "ticks": ""
            },
            "type": "choropleth"
           }
          ],
          "contour": [
           {
            "colorbar": {
             "outlinewidth": 0,
             "ticks": ""
            },
            "colorscale": [
             [
              0,
              "#0d0887"
             ],
             [
              0.1111111111111111,
              "#46039f"
             ],
             [
              0.2222222222222222,
              "#7201a8"
             ],
             [
              0.3333333333333333,
              "#9c179e"
             ],
             [
              0.4444444444444444,
              "#bd3786"
             ],
             [
              0.5555555555555556,
              "#d8576b"
             ],
             [
              0.6666666666666666,
              "#ed7953"
             ],
             [
              0.7777777777777778,
              "#fb9f3a"
             ],
             [
              0.8888888888888888,
              "#fdca26"
             ],
             [
              1,
              "#f0f921"
             ]
            ],
            "type": "contour"
           }
          ],
          "contourcarpet": [
           {
            "colorbar": {
             "outlinewidth": 0,
             "ticks": ""
            },
            "type": "contourcarpet"
           }
          ],
          "heatmap": [
           {
            "colorbar": {
             "outlinewidth": 0,
             "ticks": ""
            },
            "colorscale": [
             [
              0,
              "#0d0887"
             ],
             [
              0.1111111111111111,
              "#46039f"
             ],
             [
              0.2222222222222222,
              "#7201a8"
             ],
             [
              0.3333333333333333,
              "#9c179e"
             ],
             [
              0.4444444444444444,
              "#bd3786"
             ],
             [
              0.5555555555555556,
              "#d8576b"
             ],
             [
              0.6666666666666666,
              "#ed7953"
             ],
             [
              0.7777777777777778,
              "#fb9f3a"
             ],
             [
              0.8888888888888888,
              "#fdca26"
             ],
             [
              1,
              "#f0f921"
             ]
            ],
            "type": "heatmap"
           }
          ],
          "heatmapgl": [
           {
            "colorbar": {
             "outlinewidth": 0,
             "ticks": ""
            },
            "colorscale": [
             [
              0,
              "#0d0887"
             ],
             [
              0.1111111111111111,
              "#46039f"
             ],
             [
              0.2222222222222222,
              "#7201a8"
             ],
             [
              0.3333333333333333,
              "#9c179e"
             ],
             [
              0.4444444444444444,
              "#bd3786"
             ],
             [
              0.5555555555555556,
              "#d8576b"
             ],
             [
              0.6666666666666666,
              "#ed7953"
             ],
             [
              0.7777777777777778,
              "#fb9f3a"
             ],
             [
              0.8888888888888888,
              "#fdca26"
             ],
             [
              1,
              "#f0f921"
             ]
            ],
            "type": "heatmapgl"
           }
          ],
          "histogram": [
           {
            "marker": {
             "pattern": {
              "fillmode": "overlay",
              "size": 10,
              "solidity": 0.2
             }
            },
            "type": "histogram"
           }
          ],
          "histogram2d": [
           {
            "colorbar": {
             "outlinewidth": 0,
             "ticks": ""
            },
            "colorscale": [
             [
              0,
              "#0d0887"
             ],
             [
              0.1111111111111111,
              "#46039f"
             ],
             [
              0.2222222222222222,
              "#7201a8"
             ],
             [
              0.3333333333333333,
              "#9c179e"
             ],
             [
              0.4444444444444444,
              "#bd3786"
             ],
             [
              0.5555555555555556,
              "#d8576b"
             ],
             [
              0.6666666666666666,
              "#ed7953"
             ],
             [
              0.7777777777777778,
              "#fb9f3a"
             ],
             [
              0.8888888888888888,
              "#fdca26"
             ],
             [
              1,
              "#f0f921"
             ]
            ],
            "type": "histogram2d"
           }
          ],
          "histogram2dcontour": [
           {
            "colorbar": {
             "outlinewidth": 0,
             "ticks": ""
            },
            "colorscale": [
             [
              0,
              "#0d0887"
             ],
             [
              0.1111111111111111,
              "#46039f"
             ],
             [
              0.2222222222222222,
              "#7201a8"
             ],
             [
              0.3333333333333333,
              "#9c179e"
             ],
             [
              0.4444444444444444,
              "#bd3786"
             ],
             [
              0.5555555555555556,
              "#d8576b"
             ],
             [
              0.6666666666666666,
              "#ed7953"
             ],
             [
              0.7777777777777778,
              "#fb9f3a"
             ],
             [
              0.8888888888888888,
              "#fdca26"
             ],
             [
              1,
              "#f0f921"
             ]
            ],
            "type": "histogram2dcontour"
           }
          ],
          "mesh3d": [
           {
            "colorbar": {
             "outlinewidth": 0,
             "ticks": ""
            },
            "type": "mesh3d"
           }
          ],
          "parcoords": [
           {
            "line": {
             "colorbar": {
              "outlinewidth": 0,
              "ticks": ""
             }
            },
            "type": "parcoords"
           }
          ],
          "pie": [
           {
            "automargin": true,
            "type": "pie"
           }
          ],
          "scatter": [
           {
            "fillpattern": {
             "fillmode": "overlay",
             "size": 10,
             "solidity": 0.2
            },
            "type": "scatter"
           }
          ],
          "scatter3d": [
           {
            "line": {
             "colorbar": {
              "outlinewidth": 0,
              "ticks": ""
             }
            },
            "marker": {
             "colorbar": {
              "outlinewidth": 0,
              "ticks": ""
             }
            },
            "type": "scatter3d"
           }
          ],
          "scattercarpet": [
           {
            "marker": {
             "colorbar": {
              "outlinewidth": 0,
              "ticks": ""
             }
            },
            "type": "scattercarpet"
           }
          ],
          "scattergeo": [
           {
            "marker": {
             "colorbar": {
              "outlinewidth": 0,
              "ticks": ""
             }
            },
            "type": "scattergeo"
           }
          ],
          "scattergl": [
           {
            "marker": {
             "colorbar": {
              "outlinewidth": 0,
              "ticks": ""
             }
            },
            "type": "scattergl"
           }
          ],
          "scattermapbox": [
           {
            "marker": {
             "colorbar": {
              "outlinewidth": 0,
              "ticks": ""
             }
            },
            "type": "scattermapbox"
           }
          ],
          "scatterpolar": [
           {
            "marker": {
             "colorbar": {
              "outlinewidth": 0,
              "ticks": ""
             }
            },
            "type": "scatterpolar"
           }
          ],
          "scatterpolargl": [
           {
            "marker": {
             "colorbar": {
              "outlinewidth": 0,
              "ticks": ""
             }
            },
            "type": "scatterpolargl"
           }
          ],
          "scatterternary": [
           {
            "marker": {
             "colorbar": {
              "outlinewidth": 0,
              "ticks": ""
             }
            },
            "type": "scatterternary"
           }
          ],
          "surface": [
           {
            "colorbar": {
             "outlinewidth": 0,
             "ticks": ""
            },
            "colorscale": [
             [
              0,
              "#0d0887"
             ],
             [
              0.1111111111111111,
              "#46039f"
             ],
             [
              0.2222222222222222,
              "#7201a8"
             ],
             [
              0.3333333333333333,
              "#9c179e"
             ],
             [
              0.4444444444444444,
              "#bd3786"
             ],
             [
              0.5555555555555556,
              "#d8576b"
             ],
             [
              0.6666666666666666,
              "#ed7953"
             ],
             [
              0.7777777777777778,
              "#fb9f3a"
             ],
             [
              0.8888888888888888,
              "#fdca26"
             ],
             [
              1,
              "#f0f921"
             ]
            ],
            "type": "surface"
           }
          ],
          "table": [
           {
            "cells": {
             "fill": {
              "color": "#EBF0F8"
             },
             "line": {
              "color": "white"
             }
            },
            "header": {
             "fill": {
              "color": "#C8D4E3"
             },
             "line": {
              "color": "white"
             }
            },
            "type": "table"
           }
          ]
         },
         "layout": {
          "annotationdefaults": {
           "arrowcolor": "#2a3f5f",
           "arrowhead": 0,
           "arrowwidth": 1
          },
          "autotypenumbers": "strict",
          "coloraxis": {
           "colorbar": {
            "outlinewidth": 0,
            "ticks": ""
           }
          },
          "colorscale": {
           "diverging": [
            [
             0,
             "#8e0152"
            ],
            [
             0.1,
             "#c51b7d"
            ],
            [
             0.2,
             "#de77ae"
            ],
            [
             0.3,
             "#f1b6da"
            ],
            [
             0.4,
             "#fde0ef"
            ],
            [
             0.5,
             "#f7f7f7"
            ],
            [
             0.6,
             "#e6f5d0"
            ],
            [
             0.7,
             "#b8e186"
            ],
            [
             0.8,
             "#7fbc41"
            ],
            [
             0.9,
             "#4d9221"
            ],
            [
             1,
             "#276419"
            ]
           ],
           "sequential": [
            [
             0,
             "#0d0887"
            ],
            [
             0.1111111111111111,
             "#46039f"
            ],
            [
             0.2222222222222222,
             "#7201a8"
            ],
            [
             0.3333333333333333,
             "#9c179e"
            ],
            [
             0.4444444444444444,
             "#bd3786"
            ],
            [
             0.5555555555555556,
             "#d8576b"
            ],
            [
             0.6666666666666666,
             "#ed7953"
            ],
            [
             0.7777777777777778,
             "#fb9f3a"
            ],
            [
             0.8888888888888888,
             "#fdca26"
            ],
            [
             1,
             "#f0f921"
            ]
           ],
           "sequentialminus": [
            [
             0,
             "#0d0887"
            ],
            [
             0.1111111111111111,
             "#46039f"
            ],
            [
             0.2222222222222222,
             "#7201a8"
            ],
            [
             0.3333333333333333,
             "#9c179e"
            ],
            [
             0.4444444444444444,
             "#bd3786"
            ],
            [
             0.5555555555555556,
             "#d8576b"
            ],
            [
             0.6666666666666666,
             "#ed7953"
            ],
            [
             0.7777777777777778,
             "#fb9f3a"
            ],
            [
             0.8888888888888888,
             "#fdca26"
            ],
            [
             1,
             "#f0f921"
            ]
           ]
          },
          "colorway": [
           "#636efa",
           "#EF553B",
           "#00cc96",
           "#ab63fa",
           "#FFA15A",
           "#19d3f3",
           "#FF6692",
           "#B6E880",
           "#FF97FF",
           "#FECB52"
          ],
          "font": {
           "color": "#2a3f5f"
          },
          "geo": {
           "bgcolor": "white",
           "lakecolor": "white",
           "landcolor": "#E5ECF6",
           "showlakes": true,
           "showland": true,
           "subunitcolor": "white"
          },
          "hoverlabel": {
           "align": "left"
          },
          "hovermode": "closest",
          "mapbox": {
           "style": "light"
          },
          "paper_bgcolor": "white",
          "plot_bgcolor": "#E5ECF6",
          "polar": {
           "angularaxis": {
            "gridcolor": "white",
            "linecolor": "white",
            "ticks": ""
           },
           "bgcolor": "#E5ECF6",
           "radialaxis": {
            "gridcolor": "white",
            "linecolor": "white",
            "ticks": ""
           }
          },
          "scene": {
           "xaxis": {
            "backgroundcolor": "#E5ECF6",
            "gridcolor": "white",
            "gridwidth": 2,
            "linecolor": "white",
            "showbackground": true,
            "ticks": "",
            "zerolinecolor": "white"
           },
           "yaxis": {
            "backgroundcolor": "#E5ECF6",
            "gridcolor": "white",
            "gridwidth": 2,
            "linecolor": "white",
            "showbackground": true,
            "ticks": "",
            "zerolinecolor": "white"
           },
           "zaxis": {
            "backgroundcolor": "#E5ECF6",
            "gridcolor": "white",
            "gridwidth": 2,
            "linecolor": "white",
            "showbackground": true,
            "ticks": "",
            "zerolinecolor": "white"
           }
          },
          "shapedefaults": {
           "line": {
            "color": "#2a3f5f"
           }
          },
          "ternary": {
           "aaxis": {
            "gridcolor": "white",
            "linecolor": "white",
            "ticks": ""
           },
           "baxis": {
            "gridcolor": "white",
            "linecolor": "white",
            "ticks": ""
           },
           "bgcolor": "#E5ECF6",
           "caxis": {
            "gridcolor": "white",
            "linecolor": "white",
            "ticks": ""
           }
          },
          "title": {
           "x": 0.05
          },
          "xaxis": {
           "automargin": true,
           "gridcolor": "white",
           "linecolor": "white",
           "ticks": "",
           "title": {
            "standoff": 15
           },
           "zerolinecolor": "white",
           "zerolinewidth": 2
          },
          "yaxis": {
           "automargin": true,
           "gridcolor": "white",
           "linecolor": "white",
           "ticks": "",
           "title": {
            "standoff": 15
           },
           "zerolinecolor": "white",
           "zerolinewidth": 2
          }
         }
        },
        "title": {
         "font": {
          "color": "#4D5663"
         }
        },
        "xaxis": {
         "gridcolor": "#E1E5ED",
         "showgrid": true,
         "tickfont": {
          "color": "#4D5663"
         },
         "title": {
          "font": {
           "color": "#4D5663"
          },
          "text": ""
         },
         "zerolinecolor": "#E1E5ED"
        },
        "yaxis": {
         "gridcolor": "#E1E5ED",
         "showgrid": true,
         "tickfont": {
          "color": "#4D5663"
         },
         "title": {
          "font": {
           "color": "#4D5663"
          },
          "text": ""
         },
         "zerolinecolor": "#E1E5ED"
        }
       }
      },
      "text/html": [
       "<div>                            <div id=\"e30b7463-8b5e-4411-b69a-2fd344271db8\" class=\"plotly-graph-div\" style=\"height:525px; width:100%;\"></div>            <script type=\"text/javascript\">                require([\"plotly\"], function(Plotly) {                    window.PLOTLYENV=window.PLOTLYENV || {};\n",
       "                    window.PLOTLYENV.BASE_URL='https://plot.ly';                                    if (document.getElementById(\"e30b7463-8b5e-4411-b69a-2fd344271db8\")) {                    Plotly.newPlot(                        \"e30b7463-8b5e-4411-b69a-2fd344271db8\",                        [{\"line\":{\"color\":\"rgba(128, 0, 128, 1.0)\",\"dash\":\"solid\",\"shape\":\"linear\",\"width\":1.3},\"marker\":{\"size\":5,\"symbol\":\"circle\"},\"mode\":\"markers\",\"name\":\"d2\",\"text\":\"\",\"x\":[-0.8665047524028648,0.7244462117264606,0.34505879895670505,-0.44044515063149325,0.053807062296557684,0.2158960383980978,0.423195930796253,-0.3436930545842081,0.5654871761209691,-0.6644427100108146,-0.0116689338760765,0.09774396304296487,0.9453810863264602,0.8424241129829996,-0.1051917570179394,0.9144151376637415,0.2977090434782258,0.30376645129977375,-0.03795829229937533,-1.753125271998352,-0.5264828922126895,-0.16918851210268365,0.7201375919469932,-0.8574625539672176,-0.20318662512791263,0.30707689217071965,0.8867944990856931,-0.06393951379254327,0.6131743781806075,0.17067776265988024,0.6597057817440497,-0.6461235128509163,0.1963283044131017,-0.19130564923989563,0.038926557643936835,-0.7268236840291522,-0.2804538249409221,0.2595837194525876,0.10611045719649763,-0.0837044090593347,0.1505678730544883,-0.038649038589388056,0.20814853560763705,0.5103422335037471,0.3268360592590482,-0.8603770771552688,-0.16160288008157947,0.054269501731599806,0.24112808852020653,0.2574808303128321,-0.20185339688208495,-0.021917834103132593,-0.010354378611802889,-0.08154776019208591,-0.26213341077555224,0.41803586503987455,0.4064609377530126,-0.2559632947289276,-0.060044139496204775,-0.07135473770273601,0.42243423185975315,0.26518729574371425,0.6720497292425034,0.884335795749262,0.4733533372949009,-0.25728999631639193,-1.566748931133996,-0.1266485800753994,-0.3143874308696817,-0.8814063936809736,0.9051516949217104,0.7121207858644527,-0.7893618446352267,-0.35047309646743685,1.0195466374772717,0.7651428239681729,0.7626082336841725,-0.1394452250721334,-0.8601091156098604,0.4345236323580149,-0.3748453600291606,-0.22580116408714387,0.7741617263427399,0.03618364107230738,-0.1257205469826532,0.06762317325116134,0.8700378513571504,-0.025941402726305164,-0.01848042018575671,-0.037816053051722684,-0.0292294924685616,-0.5845725363352008,-0.24122392386217048,-0.0015813221944822118,0.1635403686255152,0.6185459694107317,0.5476741255706474,0.5738765912478304,0.3858549573036317,-0.08454315184167413,-0.2279501847523817,-0.5774375337844158,0.8469841382401512,0.6365042064199492,0.005731941864030176,0.774425096028151,-0.6342977183368191,0.7980424788727074,0.19393726871130204,0.34898539018879643,0.2773080288006368,0.2082629339194357,-0.1790023080553698,0.18826829804983664,-1.3283016650294053,-0.1002158446453989,-0.4046444222318909,0.8136819074099451,-0.14630734775952065,0.08776226118665492,-0.26847534618438235,-0.7429356436124634,-0.13197254897717434,-0.1056159033533608,0.0893580273253651,0.14636710758073038,0.0021355998723209526,0.9346348918530427,0.09522371461900934,-0.8016263682972978,-0.8813907649387058,-0.7601668492555355,-0.07134013208649165,1.0901802316767455,-0.08890246894198844,0.01231439189404023,-0.24448437781194213,0.22383845619297146,-0.27084102613891176,0.2912327310792844,-0.9439814679618119,0.257537111318956,0.22507105866798338,-0.34356353761674335,-0.7399306101459762,0.04740156881794721,0.8743532249948737,-0.505148070578624,0.3469843364092772,-0.9842069584749121,-0.0358145257261192,-1.2718411691928841,0.8124573848634885,-0.11686429022216396,-0.31882019032494685,-0.3645096982444208,-0.15836053226475877,-0.46937533885228855,0.08927695640274456,-0.36915366792585386,-0.23392049927762587,0.4171890515539503,0.7391595187170552,-0.1674788993108912,0.08040480538265622,0.3364389865449397,-0.6386842196808322,0.0649186457128711,-1.4628575666760226,-0.006348634876731478,0.6492503738734652,-0.6326586923636132,-0.6775503034852796,-0.029270234658120085,-0.200951008483733,-0.14530913011003904,-1.0299268749233956,0.3987330950793628,0.03682564250330097,-0.21861234513055838,1.0006540970637057,-0.30624870667109044,0.25969102283346696,0.09893480379183255,-0.040001104716783545,0.4959769678287046,-0.13504797777728128,-0.6746067829039799,-0.2940721967364726,0.41773920635833045,0.5679327944146109,0.9061516828873099,-1.2691729379440018,0.1492688443459162,0.03509192774585501,-0.26877066950490985,0.04158219454809594,-0.7894479858059327,-0.9258381878160892,-0.23029358137179193,0.1304529025930918,0.013744513533801279,-0.8571990902909915,0.49300748223821445,0.08004276775697644,0.30968409728959384,-0.23475266585549825,0.3613902120457355,0.7389081114599353,0.11404938552109914,-0.09299527714802215,-0.05473500079405506,-0.07955453083803417,0.1533204142260023,-0.17340566428899676,-0.044860566762887924,0.14197223410179993,0.46770965821690236,0.6468284557924274,0.9455131234491377,-0.4262467562563341,0.8941793439860853,0.6047962742825707,-0.8875264257216677,0.028407985015907623,-0.03757169364062322,0.8343363422914232,-0.9280232433151568,-0.6354147396608488,-0.07161334363252306,-0.012726185460621401,0.17285611532587092,-0.6188522168562728,-1.09749408886295,-0.5960663800790981,0.3596083537853449,-0.16514845048641358,0.10038508705806705,-0.19540510019389778,0.26170633369442087,0.10681758844285139,0.32114952975939565,-0.3382892065832354,-0.3706792574708996,0.8426669655155377,0.019207561665008917,-0.4154694098106277,0.2114558339165299,-0.17905359163679022,0.007336709546868331,0.07697173509435201,0.3896791210903118,-0.0023407915975997362,-0.06674915531479599,0.13635301461847704,0.041701680916065395,0.5855651931037221,0.16088837198325667,-0.3957666947028423,0.36767791237328945,0.20899309407459807,0.06280809854186516,0.27563555921569177,-0.35640348220432827,0.3297922772975514,0.01106147600032814,0.013245059485764616,-0.8512807581525723,-0.870220384654592,-0.7537869550603784,-1.4945658272037003,0.3394621038916853,-0.07239401727335329,-0.06271094476180841,0.8942491696323004,0.09662046988373447,-0.26099218346912234,0.2173441772006352,-0.57431945692613,-0.48613725942922725,0.26642177887047297,0.08036270235975929,-0.8547759311795791,-0.11681715776916059,0.35536146803516494,-0.9307546757788537,0.16466459049402016,-0.29703846962181435,0.09248893983217991,0.1782956922152551,-0.38422192154872437,0.3208277294723453,-0.20479281889121073,-0.36462680245370593,-0.03937441208003384,0.3620095209856972,-0.9307826516403087,0.23143766084624331,-0.4114381167618192,0.1050098052017841,0.4683074210112247,0.7397531935692025,0.4159749039476438,-0.047959748595518645,-0.2372718081097152,0.16444639253911467,-0.5413079629172892,-0.8147992862147433,0.472040293004613,-0.014726161850787418,0.03744444907635396,-0.07415091803514137,0.832420771949366,-0.16594401938367814,1.210284048323777,1.281592371123362,0.29850317895848866,-0.8890541803127511,0.9431612491015176,-0.15257303481328544,-0.6585931875869189,-1.7509074287073154,0.1311924274796101,1.0562139639380852,-0.7676651104287842,0.01373227304587531,0.8583526723956935,-0.37349122245939703,-0.4159394230643632,0.24939884243143673,-0.0075111502295401025,-0.3610402635494088,0.17422588759983273,0.340644361679677,0.2820918762294748,0.740871931457864,-0.1720852811682125,0.20952581070008675,-0.5883830849961861,-1.9156942226826392,-0.4216664624214736,0.3026854797264082,-0.8429407623287559,0.2674731895051281,0.30702232328863593,0.06505087388232628,-1.327937342546652,1.1587017949927543,-0.27044879768001795,-0.05484635149572366,-0.34516181964129183,0.1695164312331104,-0.5336967795516998,-0.09013937051867459,-0.19943725477406324,-1.2706879002663223,0.20762357560012565,0.10568771554084672,0.8912206113558891,0.05135445962336313,-0.0796441370751252,-0.04123364387961097,-0.7236725469131704,0.10595225923717379,-0.06781615615631831,0.6824636860233523,0.3480235445463606,1.017613433210593,-0.42818966869978514,0.0439806037516794,0.43403690466424544,0.7367925985744881,-0.9984219278350874,0.05801007781981193,0.22442839463490277,0.24203966734312596,-0.2488530244600173,0.3217970412673691,0.27164271962963416,-0.7921769788254868,0.1058318921885937,-0.010313594337376476,0.1510953001599751,-0.20735775466958953,-0.6260853112716372,0.20240938653946258,0.3662878616711363,0.5166557464271008,0.2051589654922538,-0.9985346943437757,-0.7722722064309082,-0.28066519450672467,-0.9828824853248219,0.12023578727889055,0.40033854967883725,0.17868925596410778,-0.8363124752629053,0.05212644654814415,0.2815351016504307,-0.9432922945226804,-0.21789275903304478,-0.19556984061445526,0.31204653393678805,-0.3762690763688042,0.405073991436551,0.37828937258706025,0.312865190173877,-0.06331175325165489,0.8076737374230974,-0.9740279541436345,-0.11878339440242677,0.6118007200428318,0.014452583580125737,0.8486824461263145,0.10461545727399588,0.21540487940778136,0.11409778826940221,0.8004781588552279,-0.6289946865462094,-0.7500399749798047,-0.9600985885416687,-0.7569771467456667,0.1660488671669034,0.12159383760834949,-0.3500102919611111,0.17347918412372487,0.22244594550806368,0.8082074255839459,0.177267053958778,0.07360955049236617,-0.19642162968986016,-0.2181609331281161,-0.21233766561071155,0.34684755682793267,0.898903820660222,0.14982679360266232,-0.632624365855688,-0.5336969265977017,0.06794973716771319,-0.5348445434833121,1.3060626768692787,-0.30671186449393406,-0.5167836096185259,0.12127539639174963,0.4347491150002702,0.8064517252144308,0.47146097550441374,0.717639473758953,0.1278360983764723,0.05076068944020639,0.1764304665181291,0.35080129641631336,-0.046456606574728304,0.02307156652216952,-0.29113833158454294,0.19044261882590294,1.2887548982490282,0.8811506634329552,0.4492272849352363,-0.01678874659864279,-0.5929351385342351,-0.007454223152575018,-0.11037276370417891,0.10372903497192001,0.9602420227626031,-0.763330499834622,-0.04661873926722347,-0.2020871302681459,0.7667736823302581,-0.1476887147775039,0.6975140463705094,0.6444074410736518,0.7662357616683939,0.00965149788327991,0.24879122906407367,-0.1375879193044979,0.492592533598757,0.09752625374692375,0.21400655494318147,-0.41797380456051625,-0.19078027536439288,-0.026425615120994502,-0.9772311594535347,0.6909782486661695,-0.18167184023478075,-1.5555133354258348,0.016480638177609815,0.3313644520836776,0.2863279097048201,0.5716629671733799,-1.5818890124200018,-0.6348301405777564,0.20553552003233666,0.1487147473782918,-0.01326013012552231,0.17968963329993817,-0.4597264043530791,0.09053199285226475,0.23006035285518137,1.0321600384070133],\"y\":[0.11292682744967135,-0.7185160009165401,0.7203082904432809,0.35249492636562296,1.1142868608494492,0.3192524936931495,0.6620216101007845,0.18452110692026258,-0.3955661560496903,-2.5332096074253547,-0.02060506254241838,-0.3230017080204243,-1.2406249643622929,-0.18016138150629513,0.9582257958794452,-0.3454835204489906,-0.6612313664864058,0.42163152143935567,0.42934418498315735,-0.8415973194541527,0.2922263917292442,0.595303014035893,-0.8036318028424937,-1.3303035984957163,-0.3020084033546316,0.29580635160231,0.7211753336987022,-0.10418826262677673,-0.3576574521753678,0.7306916750033193,0.46200417760949813,-0.37136036964868296,0.7925665347973823,-0.44693738873523836,0.24988947289379057,-1.0006296266729326,1.4110380692892557,0.28162248838314863,0.3064883850672001,-0.7411623061918963,0.6130155973837769,0.12752611774387865,0.1421887127242367,-0.8542746529966844,0.4943248923770341,0.8925527647436726,-0.49221918022073036,-0.5185877462034704,0.9011635520984204,0.7356567949808466,-0.42476711669012057,-0.2242407794152863,1.0005377714199895,-0.1634735220227268,0.6742063139777816,-0.44914582977895984,0.3755508884475461,0.2264957839738786,-0.18642170447137021,0.6760219129348761,-1.1701187169010467,-0.08056325194834185,-0.521831773679061,0.047100407755288225,0.5512611300975159,0.30283887091950606,0.22378411265143164,0.2833643863472068,0.6009430327917272,-0.8250958375440939,-0.24445263632839018,-0.6520794280706068,-0.8644707106322317,-0.30346215149753125,0.0898600257781298,-0.4251513379218136,-0.4943175646978463,0.42438048128522227,-0.8193994817319635,-0.04743505531973801,0.4391700599333993,0.0764080265237283,-0.3398561033296319,0.6060062981177777,-0.10702951282444777,-0.29152742480245675,-0.055113967900617775,-1.7511849905799934,0.18061711011181233,0.47847435865699806,-0.052465004914897216,-1.1615652700280334,0.14456647377216073,-1.1752743418182277,0.9194000698791747,-1.0097173717999184,-0.6693680649057815,1.0730350336101362,-1.2598256065794537,0.0388402539218349,-0.02773004419077744,-0.18961219527027753,-0.13845304804707698,-0.2769243424274095,0.6183117693054073,-0.365899547168914,0.26106690247863673,-0.48246879913963475,0.5824610914231584,0.16862094187745783,-0.15055655898158274,0.9739261443714822,0.5562284963810951,-0.05375971135514417,-0.6101681839995845,0.003099260548515492,0.025453269757890695,-0.1910849138729251,0.39557795346041336,-0.08521651198885977,-1.040227212775199,-0.9410459160486445,1.0218934569930163,0.8123049206989759,0.4331879087904552,0.36233152528551194,0.01752047443080817,-0.2694208152130254,1.3852832511830626,-0.8508354080881798,-0.8249910120383497,-1.0509509149830716,0.20567550364619683,0.09529894424448417,-0.28649047147901774,1.1206547720610334,0.017209766942303837,0.8024658428378618,-0.06522226924577285,0.8872113157114274,0.35524416791451263,0.46697896880143047,0.5427895863441956,0.9410731200144206,-0.9199153521432907,-0.2736526077576759,-0.25287469018081843,0.16514357029896104,0.29132843637516476,0.6624209151388234,0.040414098327501466,-0.38717091072751875,-0.11982118065000842,0.5132515858377983,1.0909242945609214,-0.07880465403990825,-0.7692620981713185,-0.14560146033631777,0.24116704093730265,-0.37218868171600145,0.541320849770448,-0.4859120045457055,-0.1401506596541721,-0.37857583192050925,0.2814187078952664,-0.4607297612467864,0.319057672762802,0.18170738217763996,-0.3752054199443294,0.36560359542535037,0.5554004525651585,-0.9587562385475438,-0.6817155535799776,0.6882529350239238,0.4665299333750677,0.19412442090637846,-0.08854272870246883,0.6783156762683843,-0.8884719258654562,-0.1297532475448465,0.29912782906599183,0.06645711878280436,0.39255479202067056,0.37585703407156235,0.15995806553757277,1.3019984773350601,0.7002520226654667,0.4128879230254813,-0.930829624567611,-1.032314077707141,-0.3785906457698145,-0.5849717268434813,-0.8736772839138224,-0.1715749681569791,0.5014468451845803,0.20500161964014035,0.011534153928644528,-1.1672928966924785,0.4449487309539934,-1.08533582085953,-0.9718102900302246,0.8602018155478997,0.29646403674143934,0.37908099036723913,0.2256324269783595,0.7725963316953446,0.35580867577333,0.08897746636059488,-0.33094322124989006,0.03230729531679803,-0.37022205853128637,-0.118708746435623,0.06885883813916191,-0.26298143989153683,-0.17660569349111957,0.6549655342512871,0.414527777574014,-0.43810034663380143,-0.7024444008490361,0.03996994695496518,-0.4640144450892908,-0.7424259573170934,-0.4171713994532758,-0.9481252824487144,-0.7691702377897431,-0.8918823117715212,-0.3102820383567282,0.03263226922467237,0.6576621906358844,-0.07062329686672635,-0.22208492763822027,0.25664501586495997,0.5197669712939024,-0.36860099193013524,-0.9566223474929896,0.42091453282963254,0.4937613526281369,0.3179660465034719,0.5386783706355263,0.18024610140021444,-0.13954886787598322,-1.5513088009838307,-0.05855729688279068,-0.28958670160795263,-0.24391167729750854,1.2841388723176885,0.28957554396196145,-0.5111925057687785,0.30709938275701226,-0.16770742437998404,-0.16065314607664943,0.8563834598248905,0.4980445700827851,0.4558623113024315,0.6179298037767196,0.8233292116900364,0.37465383546723885,0.07468481945442201,0.28296782548547444,-0.07996609965515604,0.4553676284102618,-0.2059512428208954,0.0889451823262233,-0.7936820933556058,0.6108991452651441,-0.9385225452542084,0.9431184767080292,-0.6656845123757047,-0.10690050969408725,-0.7207126984184096,-0.20242043677829252,0.20879243202099712,-0.08228210811470352,-0.40074495844623925,0.4768665826808172,0.9450352196997651,0.04066018936058118,-0.23528003757177868,-0.8514510952828226,-0.01205105811760573,-0.12515722336509047,-0.2621078340522745,-1.8920818564992432,-0.22604211875994087,0.2760368604016637,0.8907691457514544,0.01782315903912675,-0.32675477345967285,0.004297078913686207,-0.2275527154784469,-0.28320682746159537,1.33798569065334,0.10942492024808238,-0.013978505360686103,0.08016682333545835,-0.5812827554012313,-1.4936219352122977,0.011536695880805733,0.26818716017729427,1.8268312740238946,0.04196898363718164,-0.29494492215363904,-0.7677207819247516,0.4513566269829683,-0.2169961974298232,0.21499283055061313,0.5324115589510685,-0.48337326624294746,0.5286251487838787,-0.2989808108975982,0.3519597126218072,0.6521363391254131,-0.5906234146114584,-1.000385963193895,-0.4066793491518517,-1.0302486770082695,0.6529087664229005,0.22478028640229994,-0.028349125712704704,-0.1396139349671563,-0.3539096956860898,-0.3723153316984094,0.2449207126517841,0.024877436667452166,0.0059339356998510786,0.06783535925485967,-0.17499883912492617,-0.38182933650288886,1.2938771891635605,0.350547241098652,-0.2725573360375998,-0.2943315591159829,-0.9166894728985308,0.06093949893407713,0.336629192773743,-0.08670014121199994,-1.5897338602420956,1.7599082242393744,-0.7477744375113392,-0.14358254384670444,0.1014008902473048,0.6808346101734841,-0.1280830743716035,-0.7840769194593386,-0.8095637442090207,-0.6052067806725383,-0.31996840138294347,-0.38294243645767145,0.38998205094795885,-0.526212719783959,0.3691659959018378,0.8125094787663636,-0.4985168023500815,0.21683511820561077,0.03858832492985485,-0.7762469593306787,0.1733740536850865,1.416632672180902,0.24181182845432278,0.29425630118899526,-0.24750340934875778,0.33733349681383346,-0.16776236007778964,0.7006085830725591,0.35628135309735476,-0.38549348987023635,0.6001444818575268,-0.47021685719698214,0.08314329035219416,-0.1754658854138246,0.4935925779680997,-0.5340361132726579,-0.6713275474137838,-0.371823693533466,0.3518728838510409,-0.2422785714100329,-0.011786598806040445,0.10242026122086821,-0.6838452994184177,-0.8308316329191063,-0.3507580176373392,0.06544426379475594,1.1754211260974383,0.6567585333836067,-0.08698723829862169,0.6046640536588063,0.13414580250902908,0.8864686129789667,0.6580260026975022,-0.7741191679146576,-0.9211478454336053,-0.14855684490462936,-0.44566120313202034,-0.3231277918734767,-0.6217066446438029,0.1054206495821487,-1.2864374169228585,0.5059726976306397,-0.6416927932819404,0.9694643029842303,0.19377141507303064,-0.7168711202274051,-0.3180740274630358,-0.026744709352225657,0.184094819342447,0.1834430093216222,0.02632719585693411,-0.774367242515458,1.509952142662522,-0.29777944652990324,-0.07319188198913837,0.41947125275544045,0.33297576854015587,-0.20266427450197813,0.3865532192565725,0.5411903647805317,1.00695914826714,-0.2354626952495722,0.2303313751606716,-1.0426520899990117,0.00033370833528275766,-1.0723677015700952,0.03049576744900018,0.5596693975074337,-0.11860716268987874,0.5258161262087642,0.43428528657131765,0.1354912216091563,0.4036922348874708,0.3328877369099763,-0.8583521141196128,-0.15315698669746616,0.4213979111203043,0.24280298814144202,0.08078276938040539,0.8288006637921137,-0.17957774653899597,-0.49851665465791184,1.0474679016599453,0.5785404823068803,0.31392349894867105,-0.7719007980375082,0.8824504668543695,0.25959485588339715,1.1093117582964127,-0.617608561267246,0.6282209710559448,-0.6189700923437249,1.0100594940818153,0.038385270392844104,-0.09908208258408584,-0.2645438809712861,0.1962442456301459,-0.11635798560892717,-0.25118963529875615,0.22809088800131666,-0.05516043153980724,-0.07153840729198795,-0.389235558019982,-0.19684319314296783,-0.7275449160338558,-0.3107081884609644,0.051050678351369984,0.46226874711440175,-0.1792778860221694,-0.7146208878077801,0.28577592181902883,0.31985023646209837,-0.058806332335657616,0.2063031610784068,-0.812120426910619,-0.5262250969880293,-0.46941670701136873,0.5007857517598576,0.9336838297250943,-0.28181548050684313,0.5670643535231199,0.8141899192523501,-0.022957331146230196,0.3755460426944468,0.33890446742868796,1.0270315866149944,-0.6268694330447677,0.12316833357068913,0.4695329485304119,-0.02655293266173265,0.279559288062998,-0.9025456517716823,-0.2980337190307171,-0.47482749381979056,0.3132986529720331,-0.4161283212330846,0.40183725032217127,0.9756928678601112,0.7320260123959699,-1.0660580161270024,0.1434071044994755,0.5933765130834454,1.7602084145528318,-0.7971976324789715],\"type\":\"scatter\"}],                        {\"legend\":{\"bgcolor\":\"#F5F6F9\",\"font\":{\"color\":\"#4D5663\"}},\"paper_bgcolor\":\"#F5F6F9\",\"plot_bgcolor\":\"#F5F6F9\",\"template\":{\"data\":{\"barpolar\":[{\"marker\":{\"line\":{\"color\":\"#E5ECF6\",\"width\":0.5},\"pattern\":{\"fillmode\":\"overlay\",\"size\":10,\"solidity\":0.2}},\"type\":\"barpolar\"}],\"bar\":[{\"error_x\":{\"color\":\"#2a3f5f\"},\"error_y\":{\"color\":\"#2a3f5f\"},\"marker\":{\"line\":{\"color\":\"#E5ECF6\",\"width\":0.5},\"pattern\":{\"fillmode\":\"overlay\",\"size\":10,\"solidity\":0.2}},\"type\":\"bar\"}],\"carpet\":[{\"aaxis\":{\"endlinecolor\":\"#2a3f5f\",\"gridcolor\":\"white\",\"linecolor\":\"white\",\"minorgridcolor\":\"white\",\"startlinecolor\":\"#2a3f5f\"},\"baxis\":{\"endlinecolor\":\"#2a3f5f\",\"gridcolor\":\"white\",\"linecolor\":\"white\",\"minorgridcolor\":\"white\",\"startlinecolor\":\"#2a3f5f\"},\"type\":\"carpet\"}],\"choropleth\":[{\"colorbar\":{\"outlinewidth\":0,\"ticks\":\"\"},\"type\":\"choropleth\"}],\"contourcarpet\":[{\"colorbar\":{\"outlinewidth\":0,\"ticks\":\"\"},\"type\":\"contourcarpet\"}],\"contour\":[{\"colorbar\":{\"outlinewidth\":0,\"ticks\":\"\"},\"colorscale\":[[0.0,\"#0d0887\"],[0.1111111111111111,\"#46039f\"],[0.2222222222222222,\"#7201a8\"],[0.3333333333333333,\"#9c179e\"],[0.4444444444444444,\"#bd3786\"],[0.5555555555555556,\"#d8576b\"],[0.6666666666666666,\"#ed7953\"],[0.7777777777777778,\"#fb9f3a\"],[0.8888888888888888,\"#fdca26\"],[1.0,\"#f0f921\"]],\"type\":\"contour\"}],\"heatmapgl\":[{\"colorbar\":{\"outlinewidth\":0,\"ticks\":\"\"},\"colorscale\":[[0.0,\"#0d0887\"],[0.1111111111111111,\"#46039f\"],[0.2222222222222222,\"#7201a8\"],[0.3333333333333333,\"#9c179e\"],[0.4444444444444444,\"#bd3786\"],[0.5555555555555556,\"#d8576b\"],[0.6666666666666666,\"#ed7953\"],[0.7777777777777778,\"#fb9f3a\"],[0.8888888888888888,\"#fdca26\"],[1.0,\"#f0f921\"]],\"type\":\"heatmapgl\"}],\"heatmap\":[{\"colorbar\":{\"outlinewidth\":0,\"ticks\":\"\"},\"colorscale\":[[0.0,\"#0d0887\"],[0.1111111111111111,\"#46039f\"],[0.2222222222222222,\"#7201a8\"],[0.3333333333333333,\"#9c179e\"],[0.4444444444444444,\"#bd3786\"],[0.5555555555555556,\"#d8576b\"],[0.6666666666666666,\"#ed7953\"],[0.7777777777777778,\"#fb9f3a\"],[0.8888888888888888,\"#fdca26\"],[1.0,\"#f0f921\"]],\"type\":\"heatmap\"}],\"histogram2dcontour\":[{\"colorbar\":{\"outlinewidth\":0,\"ticks\":\"\"},\"colorscale\":[[0.0,\"#0d0887\"],[0.1111111111111111,\"#46039f\"],[0.2222222222222222,\"#7201a8\"],[0.3333333333333333,\"#9c179e\"],[0.4444444444444444,\"#bd3786\"],[0.5555555555555556,\"#d8576b\"],[0.6666666666666666,\"#ed7953\"],[0.7777777777777778,\"#fb9f3a\"],[0.8888888888888888,\"#fdca26\"],[1.0,\"#f0f921\"]],\"type\":\"histogram2dcontour\"}],\"histogram2d\":[{\"colorbar\":{\"outlinewidth\":0,\"ticks\":\"\"},\"colorscale\":[[0.0,\"#0d0887\"],[0.1111111111111111,\"#46039f\"],[0.2222222222222222,\"#7201a8\"],[0.3333333333333333,\"#9c179e\"],[0.4444444444444444,\"#bd3786\"],[0.5555555555555556,\"#d8576b\"],[0.6666666666666666,\"#ed7953\"],[0.7777777777777778,\"#fb9f3a\"],[0.8888888888888888,\"#fdca26\"],[1.0,\"#f0f921\"]],\"type\":\"histogram2d\"}],\"histogram\":[{\"marker\":{\"pattern\":{\"fillmode\":\"overlay\",\"size\":10,\"solidity\":0.2}},\"type\":\"histogram\"}],\"mesh3d\":[{\"colorbar\":{\"outlinewidth\":0,\"ticks\":\"\"},\"type\":\"mesh3d\"}],\"parcoords\":[{\"line\":{\"colorbar\":{\"outlinewidth\":0,\"ticks\":\"\"}},\"type\":\"parcoords\"}],\"pie\":[{\"automargin\":true,\"type\":\"pie\"}],\"scatter3d\":[{\"line\":{\"colorbar\":{\"outlinewidth\":0,\"ticks\":\"\"}},\"marker\":{\"colorbar\":{\"outlinewidth\":0,\"ticks\":\"\"}},\"type\":\"scatter3d\"}],\"scattercarpet\":[{\"marker\":{\"colorbar\":{\"outlinewidth\":0,\"ticks\":\"\"}},\"type\":\"scattercarpet\"}],\"scattergeo\":[{\"marker\":{\"colorbar\":{\"outlinewidth\":0,\"ticks\":\"\"}},\"type\":\"scattergeo\"}],\"scattergl\":[{\"marker\":{\"colorbar\":{\"outlinewidth\":0,\"ticks\":\"\"}},\"type\":\"scattergl\"}],\"scattermapbox\":[{\"marker\":{\"colorbar\":{\"outlinewidth\":0,\"ticks\":\"\"}},\"type\":\"scattermapbox\"}],\"scatterpolargl\":[{\"marker\":{\"colorbar\":{\"outlinewidth\":0,\"ticks\":\"\"}},\"type\":\"scatterpolargl\"}],\"scatterpolar\":[{\"marker\":{\"colorbar\":{\"outlinewidth\":0,\"ticks\":\"\"}},\"type\":\"scatterpolar\"}],\"scatter\":[{\"fillpattern\":{\"fillmode\":\"overlay\",\"size\":10,\"solidity\":0.2},\"type\":\"scatter\"}],\"scatterternary\":[{\"marker\":{\"colorbar\":{\"outlinewidth\":0,\"ticks\":\"\"}},\"type\":\"scatterternary\"}],\"surface\":[{\"colorbar\":{\"outlinewidth\":0,\"ticks\":\"\"},\"colorscale\":[[0.0,\"#0d0887\"],[0.1111111111111111,\"#46039f\"],[0.2222222222222222,\"#7201a8\"],[0.3333333333333333,\"#9c179e\"],[0.4444444444444444,\"#bd3786\"],[0.5555555555555556,\"#d8576b\"],[0.6666666666666666,\"#ed7953\"],[0.7777777777777778,\"#fb9f3a\"],[0.8888888888888888,\"#fdca26\"],[1.0,\"#f0f921\"]],\"type\":\"surface\"}],\"table\":[{\"cells\":{\"fill\":{\"color\":\"#EBF0F8\"},\"line\":{\"color\":\"white\"}},\"header\":{\"fill\":{\"color\":\"#C8D4E3\"},\"line\":{\"color\":\"white\"}},\"type\":\"table\"}]},\"layout\":{\"annotationdefaults\":{\"arrowcolor\":\"#2a3f5f\",\"arrowhead\":0,\"arrowwidth\":1},\"autotypenumbers\":\"strict\",\"coloraxis\":{\"colorbar\":{\"outlinewidth\":0,\"ticks\":\"\"}},\"colorscale\":{\"diverging\":[[0,\"#8e0152\"],[0.1,\"#c51b7d\"],[0.2,\"#de77ae\"],[0.3,\"#f1b6da\"],[0.4,\"#fde0ef\"],[0.5,\"#f7f7f7\"],[0.6,\"#e6f5d0\"],[0.7,\"#b8e186\"],[0.8,\"#7fbc41\"],[0.9,\"#4d9221\"],[1,\"#276419\"]],\"sequential\":[[0.0,\"#0d0887\"],[0.1111111111111111,\"#46039f\"],[0.2222222222222222,\"#7201a8\"],[0.3333333333333333,\"#9c179e\"],[0.4444444444444444,\"#bd3786\"],[0.5555555555555556,\"#d8576b\"],[0.6666666666666666,\"#ed7953\"],[0.7777777777777778,\"#fb9f3a\"],[0.8888888888888888,\"#fdca26\"],[1.0,\"#f0f921\"]],\"sequentialminus\":[[0.0,\"#0d0887\"],[0.1111111111111111,\"#46039f\"],[0.2222222222222222,\"#7201a8\"],[0.3333333333333333,\"#9c179e\"],[0.4444444444444444,\"#bd3786\"],[0.5555555555555556,\"#d8576b\"],[0.6666666666666666,\"#ed7953\"],[0.7777777777777778,\"#fb9f3a\"],[0.8888888888888888,\"#fdca26\"],[1.0,\"#f0f921\"]]},\"colorway\":[\"#636efa\",\"#EF553B\",\"#00cc96\",\"#ab63fa\",\"#FFA15A\",\"#19d3f3\",\"#FF6692\",\"#B6E880\",\"#FF97FF\",\"#FECB52\"],\"font\":{\"color\":\"#2a3f5f\"},\"geo\":{\"bgcolor\":\"white\",\"lakecolor\":\"white\",\"landcolor\":\"#E5ECF6\",\"showlakes\":true,\"showland\":true,\"subunitcolor\":\"white\"},\"hoverlabel\":{\"align\":\"left\"},\"hovermode\":\"closest\",\"mapbox\":{\"style\":\"light\"},\"paper_bgcolor\":\"white\",\"plot_bgcolor\":\"#E5ECF6\",\"polar\":{\"angularaxis\":{\"gridcolor\":\"white\",\"linecolor\":\"white\",\"ticks\":\"\"},\"bgcolor\":\"#E5ECF6\",\"radialaxis\":{\"gridcolor\":\"white\",\"linecolor\":\"white\",\"ticks\":\"\"}},\"scene\":{\"xaxis\":{\"backgroundcolor\":\"#E5ECF6\",\"gridcolor\":\"white\",\"gridwidth\":2,\"linecolor\":\"white\",\"showbackground\":true,\"ticks\":\"\",\"zerolinecolor\":\"white\"},\"yaxis\":{\"backgroundcolor\":\"#E5ECF6\",\"gridcolor\":\"white\",\"gridwidth\":2,\"linecolor\":\"white\",\"showbackground\":true,\"ticks\":\"\",\"zerolinecolor\":\"white\"},\"zaxis\":{\"backgroundcolor\":\"#E5ECF6\",\"gridcolor\":\"white\",\"gridwidth\":2,\"linecolor\":\"white\",\"showbackground\":true,\"ticks\":\"\",\"zerolinecolor\":\"white\"}},\"shapedefaults\":{\"line\":{\"color\":\"#2a3f5f\"}},\"ternary\":{\"aaxis\":{\"gridcolor\":\"white\",\"linecolor\":\"white\",\"ticks\":\"\"},\"baxis\":{\"gridcolor\":\"white\",\"linecolor\":\"white\",\"ticks\":\"\"},\"bgcolor\":\"#E5ECF6\",\"caxis\":{\"gridcolor\":\"white\",\"linecolor\":\"white\",\"ticks\":\"\"}},\"title\":{\"x\":0.05},\"xaxis\":{\"automargin\":true,\"gridcolor\":\"white\",\"linecolor\":\"white\",\"ticks\":\"\",\"title\":{\"standoff\":15},\"zerolinecolor\":\"white\",\"zerolinewidth\":2},\"yaxis\":{\"automargin\":true,\"gridcolor\":\"white\",\"linecolor\":\"white\",\"ticks\":\"\",\"title\":{\"standoff\":15},\"zerolinecolor\":\"white\",\"zerolinewidth\":2}}},\"title\":{\"font\":{\"color\":\"#4D5663\"}},\"xaxis\":{\"gridcolor\":\"#E1E5ED\",\"showgrid\":true,\"tickfont\":{\"color\":\"#4D5663\"},\"title\":{\"font\":{\"color\":\"#4D5663\"},\"text\":\"\"},\"zerolinecolor\":\"#E1E5ED\"},\"yaxis\":{\"gridcolor\":\"#E1E5ED\",\"showgrid\":true,\"tickfont\":{\"color\":\"#4D5663\"},\"title\":{\"font\":{\"color\":\"#4D5663\"},\"text\":\"\"},\"zerolinecolor\":\"#E1E5ED\"}},                        {\"showLink\": true, \"linkText\": \"Export to plot.ly\", \"plotlyServerURL\": \"https://plot.ly\", \"responsive\": true}                    ).then(function(){\n",
       "                            \n",
       "var gd = document.getElementById('e30b7463-8b5e-4411-b69a-2fd344271db8');\n",
       "var x = new MutationObserver(function (mutations, observer) {{\n",
       "        var display = window.getComputedStyle(gd).display;\n",
       "        if (!display || display === 'none') {{\n",
       "            console.log([gd, 'removed!']);\n",
       "            Plotly.purge(gd);\n",
       "            observer.disconnect();\n",
       "        }}\n",
       "}});\n",
       "\n",
       "// Listen for the removal of the full notebook cells\n",
       "var notebookContainer = gd.closest('#notebook-container');\n",
       "if (notebookContainer) {{\n",
       "    x.observe(notebookContainer, {childList: true});\n",
       "}}\n",
       "\n",
       "// Listen for the clearing of the current output cell\n",
       "var outputEl = gd.closest('.output');\n",
       "if (outputEl) {{\n",
       "    x.observe(outputEl, {childList: true});\n",
       "}}\n",
       "\n",
       "                        })                };                });            </script>        </div>"
      ]
     },
     "metadata": {},
     "output_type": "display_data"
    }
   ],
   "source": [
    "Xm.iplot(kind='scatter', x='d1', y='d2',\n",
    "         mode='markers', size=5, color='purple')\n"
   ]
  },
  {
   "cell_type": "code",
   "execution_count": null,
   "metadata": {},
   "outputs": [],
   "source": []
  }
 ],
 "metadata": {
  "kernelspec": {
   "display_name": "amv",
   "language": "python",
   "name": "amv"
  },
  "language_info": {
   "codemirror_mode": {
    "name": "ipython",
    "version": 3
   },
   "file_extension": ".py",
   "mimetype": "text/x-python",
   "name": "python",
   "nbconvert_exporter": "python",
   "pygments_lexer": "ipython3",
   "version": "3.10.6"
  },
  "orig_nbformat": 4
 },
 "nbformat": 4,
 "nbformat_minor": 2
}
